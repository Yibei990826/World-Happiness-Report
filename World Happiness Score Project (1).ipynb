{
 "cells": [
  {
   "cell_type": "markdown",
   "metadata": {},
   "source": [
    "#  World Happiness Score Project"
   ]
  },
  {
   "cell_type": "markdown",
   "metadata": {},
   "source": [
    "## 1. Exploratory Data Analysis"
   ]
  },
  {
   "cell_type": "markdown",
   "metadata": {},
   "source": [
    "### 1.1 Load in data"
   ]
  },
  {
   "cell_type": "code",
   "execution_count": 1,
   "metadata": {},
   "outputs": [],
   "source": [
    "import numpy as np\n",
    "import pandas as pd\n",
    "import matplotlib.pyplot as plt"
   ]
  },
  {
   "cell_type": "code",
   "execution_count": 2,
   "metadata": {},
   "outputs": [],
   "source": [
    "df = pd.read_csv('/Users/yibeihu/Desktop/world-happiness-report-2015-2022.csv')"
   ]
  },
  {
   "cell_type": "code",
   "execution_count": 3,
   "metadata": {},
   "outputs": [
    {
     "data": {
      "text/html": [
       "<div>\n",
       "<style scoped>\n",
       "    .dataframe tbody tr th:only-of-type {\n",
       "        vertical-align: middle;\n",
       "    }\n",
       "\n",
       "    .dataframe tbody tr th {\n",
       "        vertical-align: top;\n",
       "    }\n",
       "\n",
       "    .dataframe thead th {\n",
       "        text-align: right;\n",
       "    }\n",
       "</style>\n",
       "<table border=\"1\" class=\"dataframe\">\n",
       "  <thead>\n",
       "    <tr style=\"text-align: right;\">\n",
       "      <th></th>\n",
       "      <th>Unnamed: 0</th>\n",
       "      <th>Happiness Rank</th>\n",
       "      <th>Country</th>\n",
       "      <th>Region</th>\n",
       "      <th>Happiness.Score</th>\n",
       "      <th>Economy (GDP per Capita)</th>\n",
       "      <th>Family (Social Support)</th>\n",
       "      <th>Health (Life Expectancy)</th>\n",
       "      <th>Freedom</th>\n",
       "      <th>Trust (Government Corruption)</th>\n",
       "      <th>Generosity</th>\n",
       "      <th>Year</th>\n",
       "    </tr>\n",
       "  </thead>\n",
       "  <tbody>\n",
       "    <tr>\n",
       "      <th>0</th>\n",
       "      <td>0</td>\n",
       "      <td>1</td>\n",
       "      <td>Switzerland</td>\n",
       "      <td>Western Europe</td>\n",
       "      <td>7.587</td>\n",
       "      <td>1.39651</td>\n",
       "      <td>1.34951</td>\n",
       "      <td>0.94143</td>\n",
       "      <td>0.66557</td>\n",
       "      <td>0.41978</td>\n",
       "      <td>0.29678</td>\n",
       "      <td>2015</td>\n",
       "    </tr>\n",
       "    <tr>\n",
       "      <th>1</th>\n",
       "      <td>1</td>\n",
       "      <td>2</td>\n",
       "      <td>Iceland</td>\n",
       "      <td>Western Europe</td>\n",
       "      <td>7.561</td>\n",
       "      <td>1.30232</td>\n",
       "      <td>1.40223</td>\n",
       "      <td>0.94784</td>\n",
       "      <td>0.62877</td>\n",
       "      <td>0.14145</td>\n",
       "      <td>0.43630</td>\n",
       "      <td>2015</td>\n",
       "    </tr>\n",
       "    <tr>\n",
       "      <th>2</th>\n",
       "      <td>2</td>\n",
       "      <td>3</td>\n",
       "      <td>Denmark</td>\n",
       "      <td>Western Europe</td>\n",
       "      <td>7.527</td>\n",
       "      <td>1.32548</td>\n",
       "      <td>1.36058</td>\n",
       "      <td>0.87464</td>\n",
       "      <td>0.64938</td>\n",
       "      <td>0.48357</td>\n",
       "      <td>0.34139</td>\n",
       "      <td>2015</td>\n",
       "    </tr>\n",
       "    <tr>\n",
       "      <th>3</th>\n",
       "      <td>3</td>\n",
       "      <td>4</td>\n",
       "      <td>Norway</td>\n",
       "      <td>Western Europe</td>\n",
       "      <td>7.522</td>\n",
       "      <td>1.45900</td>\n",
       "      <td>1.33095</td>\n",
       "      <td>0.88521</td>\n",
       "      <td>0.66973</td>\n",
       "      <td>0.36503</td>\n",
       "      <td>0.34699</td>\n",
       "      <td>2015</td>\n",
       "    </tr>\n",
       "    <tr>\n",
       "      <th>4</th>\n",
       "      <td>4</td>\n",
       "      <td>5</td>\n",
       "      <td>Canada</td>\n",
       "      <td>North America</td>\n",
       "      <td>7.427</td>\n",
       "      <td>1.32629</td>\n",
       "      <td>1.32261</td>\n",
       "      <td>0.90563</td>\n",
       "      <td>0.63297</td>\n",
       "      <td>0.32957</td>\n",
       "      <td>0.45811</td>\n",
       "      <td>2015</td>\n",
       "    </tr>\n",
       "  </tbody>\n",
       "</table>\n",
       "</div>"
      ],
      "text/plain": [
       "   Unnamed: 0  Happiness Rank      Country          Region  Happiness.Score  \\\n",
       "0           0               1  Switzerland  Western Europe            7.587   \n",
       "1           1               2      Iceland  Western Europe            7.561   \n",
       "2           2               3      Denmark  Western Europe            7.527   \n",
       "3           3               4       Norway  Western Europe            7.522   \n",
       "4           4               5       Canada   North America            7.427   \n",
       "\n",
       "   Economy (GDP per Capita)  Family (Social Support)  \\\n",
       "0                   1.39651                  1.34951   \n",
       "1                   1.30232                  1.40223   \n",
       "2                   1.32548                  1.36058   \n",
       "3                   1.45900                  1.33095   \n",
       "4                   1.32629                  1.32261   \n",
       "\n",
       "   Health (Life Expectancy)  Freedom  Trust (Government Corruption)  \\\n",
       "0                   0.94143  0.66557                        0.41978   \n",
       "1                   0.94784  0.62877                        0.14145   \n",
       "2                   0.87464  0.64938                        0.48357   \n",
       "3                   0.88521  0.66973                        0.36503   \n",
       "4                   0.90563  0.63297                        0.32957   \n",
       "\n",
       "   Generosity  Year  \n",
       "0     0.29678  2015  \n",
       "1     0.43630  2015  \n",
       "2     0.34139  2015  \n",
       "3     0.34699  2015  \n",
       "4     0.45811  2015  "
      ]
     },
     "execution_count": 3,
     "metadata": {},
     "output_type": "execute_result"
    }
   ],
   "source": [
    "df.head()"
   ]
  },
  {
   "cell_type": "code",
   "execution_count": 4,
   "metadata": {},
   "outputs": [],
   "source": [
    "df.drop(['Unnamed: 0'], axis = 1, inplace = True)"
   ]
  },
  {
   "cell_type": "markdown",
   "metadata": {},
   "source": [
    "### 1.2 Basic Info"
   ]
  },
  {
   "cell_type": "code",
   "execution_count": 5,
   "metadata": {},
   "outputs": [
    {
     "data": {
      "text/plain": [
       "Index(['Happiness Rank', 'Country', 'Region', 'Happiness.Score',\n",
       "       'Economy (GDP per Capita)', 'Family (Social Support)',\n",
       "       'Health (Life Expectancy)', 'Freedom', 'Trust (Government Corruption)',\n",
       "       'Generosity', 'Year'],\n",
       "      dtype='object')"
      ]
     },
     "execution_count": 5,
     "metadata": {},
     "output_type": "execute_result"
    }
   ],
   "source": [
    "df.columns"
   ]
  },
  {
   "cell_type": "code",
   "execution_count": 6,
   "metadata": {},
   "outputs": [
    {
     "name": "stdout",
     "output_type": "stream",
     "text": [
      "<class 'pandas.core.frame.DataFrame'>\n",
      "RangeIndex: 1229 entries, 0 to 1228\n",
      "Data columns (total 11 columns):\n",
      " #   Column                         Non-Null Count  Dtype  \n",
      "---  ------                         --------------  -----  \n",
      " 0   Happiness Rank                 1229 non-null   int64  \n",
      " 1   Country                        1229 non-null   object \n",
      " 2   Region                         1229 non-null   object \n",
      " 3   Happiness.Score                1229 non-null   float64\n",
      " 4   Economy (GDP per Capita)       1229 non-null   float64\n",
      " 5   Family (Social Support)        1229 non-null   float64\n",
      " 6   Health (Life Expectancy)       1229 non-null   float64\n",
      " 7   Freedom                        1229 non-null   float64\n",
      " 8   Trust (Government Corruption)  1229 non-null   float64\n",
      " 9   Generosity                     1229 non-null   float64\n",
      " 10  Year                           1229 non-null   int64  \n",
      "dtypes: float64(7), int64(2), object(2)\n",
      "memory usage: 105.7+ KB\n"
     ]
    }
   ],
   "source": [
    "df.info()"
   ]
  },
  {
   "cell_type": "markdown",
   "metadata": {},
   "source": [
    "#### From here we see that our dataset contains 11 columns of data. Accoding to our model design, we're going to use 9 predictors to regress for the response factor(Happiness Score), among the 9 predictors country and Region are categorical data."
   ]
  },
  {
   "cell_type": "code",
   "execution_count": 7,
   "metadata": {},
   "outputs": [
    {
     "data": {
      "text/html": [
       "<div>\n",
       "<style scoped>\n",
       "    .dataframe tbody tr th:only-of-type {\n",
       "        vertical-align: middle;\n",
       "    }\n",
       "\n",
       "    .dataframe tbody tr th {\n",
       "        vertical-align: top;\n",
       "    }\n",
       "\n",
       "    .dataframe thead th {\n",
       "        text-align: right;\n",
       "    }\n",
       "</style>\n",
       "<table border=\"1\" class=\"dataframe\">\n",
       "  <thead>\n",
       "    <tr style=\"text-align: right;\">\n",
       "      <th></th>\n",
       "      <th>Happiness Rank</th>\n",
       "      <th>Happiness.Score</th>\n",
       "      <th>Economy (GDP per Capita)</th>\n",
       "      <th>Family (Social Support)</th>\n",
       "      <th>Health (Life Expectancy)</th>\n",
       "      <th>Freedom</th>\n",
       "      <th>Trust (Government Corruption)</th>\n",
       "      <th>Generosity</th>\n",
       "      <th>Year</th>\n",
       "    </tr>\n",
       "  </thead>\n",
       "  <tbody>\n",
       "    <tr>\n",
       "      <th>count</th>\n",
       "      <td>1229.000000</td>\n",
       "      <td>1229.000000</td>\n",
       "      <td>1229.000000</td>\n",
       "      <td>1229.000000</td>\n",
       "      <td>1229.000000</td>\n",
       "      <td>1229.000000</td>\n",
       "      <td>1229.000000</td>\n",
       "      <td>1229.000000</td>\n",
       "      <td>1229.000000</td>\n",
       "    </tr>\n",
       "    <tr>\n",
       "      <th>mean</th>\n",
       "      <td>77.468674</td>\n",
       "      <td>5.429486</td>\n",
       "      <td>0.975343</td>\n",
       "      <td>1.033193</td>\n",
       "      <td>0.608082</td>\n",
       "      <td>0.440960</td>\n",
       "      <td>0.130756</td>\n",
       "      <td>0.201595</td>\n",
       "      <td>2018.447518</td>\n",
       "    </tr>\n",
       "    <tr>\n",
       "      <th>std</th>\n",
       "      <td>44.474181</td>\n",
       "      <td>1.115537</td>\n",
       "      <td>0.434249</td>\n",
       "      <td>0.329578</td>\n",
       "      <td>0.241340</td>\n",
       "      <td>0.154412</td>\n",
       "      <td>0.110818</td>\n",
       "      <td>0.115568</td>\n",
       "      <td>2.283610</td>\n",
       "    </tr>\n",
       "    <tr>\n",
       "      <th>min</th>\n",
       "      <td>1.000000</td>\n",
       "      <td>2.404000</td>\n",
       "      <td>0.000000</td>\n",
       "      <td>0.000000</td>\n",
       "      <td>0.000000</td>\n",
       "      <td>0.000000</td>\n",
       "      <td>0.000000</td>\n",
       "      <td>0.000000</td>\n",
       "      <td>2015.000000</td>\n",
       "    </tr>\n",
       "    <tr>\n",
       "      <th>25%</th>\n",
       "      <td>39.000000</td>\n",
       "      <td>4.584000</td>\n",
       "      <td>0.668000</td>\n",
       "      <td>0.828000</td>\n",
       "      <td>0.439000</td>\n",
       "      <td>0.345000</td>\n",
       "      <td>0.056000</td>\n",
       "      <td>0.118000</td>\n",
       "      <td>2016.000000</td>\n",
       "    </tr>\n",
       "    <tr>\n",
       "      <th>50%</th>\n",
       "      <td>77.000000</td>\n",
       "      <td>5.410000</td>\n",
       "      <td>1.012160</td>\n",
       "      <td>1.069336</td>\n",
       "      <td>0.639333</td>\n",
       "      <td>0.459000</td>\n",
       "      <td>0.096000</td>\n",
       "      <td>0.187000</td>\n",
       "      <td>2018.000000</td>\n",
       "    </tr>\n",
       "    <tr>\n",
       "      <th>75%</th>\n",
       "      <td>116.000000</td>\n",
       "      <td>6.227300</td>\n",
       "      <td>1.295843</td>\n",
       "      <td>1.273850</td>\n",
       "      <td>0.790810</td>\n",
       "      <td>0.559000</td>\n",
       "      <td>0.164000</td>\n",
       "      <td>0.258538</td>\n",
       "      <td>2020.000000</td>\n",
       "    </tr>\n",
       "    <tr>\n",
       "      <th>max</th>\n",
       "      <td>158.000000</td>\n",
       "      <td>7.842000</td>\n",
       "      <td>2.209000</td>\n",
       "      <td>1.644000</td>\n",
       "      <td>1.141000</td>\n",
       "      <td>0.740000</td>\n",
       "      <td>0.587000</td>\n",
       "      <td>0.838075</td>\n",
       "      <td>2022.000000</td>\n",
       "    </tr>\n",
       "  </tbody>\n",
       "</table>\n",
       "</div>"
      ],
      "text/plain": [
       "       Happiness Rank  Happiness.Score  Economy (GDP per Capita)  \\\n",
       "count     1229.000000      1229.000000               1229.000000   \n",
       "mean        77.468674         5.429486                  0.975343   \n",
       "std         44.474181         1.115537                  0.434249   \n",
       "min          1.000000         2.404000                  0.000000   \n",
       "25%         39.000000         4.584000                  0.668000   \n",
       "50%         77.000000         5.410000                  1.012160   \n",
       "75%        116.000000         6.227300                  1.295843   \n",
       "max        158.000000         7.842000                  2.209000   \n",
       "\n",
       "       Family (Social Support)  Health (Life Expectancy)      Freedom  \\\n",
       "count              1229.000000               1229.000000  1229.000000   \n",
       "mean                  1.033193                  0.608082     0.440960   \n",
       "std                   0.329578                  0.241340     0.154412   \n",
       "min                   0.000000                  0.000000     0.000000   \n",
       "25%                   0.828000                  0.439000     0.345000   \n",
       "50%                   1.069336                  0.639333     0.459000   \n",
       "75%                   1.273850                  0.790810     0.559000   \n",
       "max                   1.644000                  1.141000     0.740000   \n",
       "\n",
       "       Trust (Government Corruption)   Generosity         Year  \n",
       "count                    1229.000000  1229.000000  1229.000000  \n",
       "mean                        0.130756     0.201595  2018.447518  \n",
       "std                         0.110818     0.115568     2.283610  \n",
       "min                         0.000000     0.000000  2015.000000  \n",
       "25%                         0.056000     0.118000  2016.000000  \n",
       "50%                         0.096000     0.187000  2018.000000  \n",
       "75%                         0.164000     0.258538  2020.000000  \n",
       "max                         0.587000     0.838075  2022.000000  "
      ]
     },
     "execution_count": 7,
     "metadata": {},
     "output_type": "execute_result"
    }
   ],
   "source": [
    "df.describe()"
   ]
  },
  {
   "cell_type": "code",
   "execution_count": 8,
   "metadata": {},
   "outputs": [
    {
     "data": {
      "text/plain": [
       "array(['Western Europe', 'North America', 'Australia and New Zealand',\n",
       "       'Middle East and Northern Africa', 'Latin America and Caribbean',\n",
       "       'Southeastern Asia', 'Central and Eastern Europe', 'Eastern Asia',\n",
       "       'Sub-Saharan Africa', 'Southern Asia', '-',\n",
       "       'North America and ANZ', 'Middle East and North Africa',\n",
       "       'East Asia', 'Southeast Asia',\n",
       "       'Commonwealth of Independent States', 'South Asia'], dtype=object)"
      ]
     },
     "execution_count": 8,
     "metadata": {},
     "output_type": "execute_result"
    }
   ],
   "source": [
    "df['Region'].unique()"
   ]
  },
  {
   "cell_type": "code",
   "execution_count": 9,
   "metadata": {},
   "outputs": [
    {
     "data": {
      "text/html": [
       "<div>\n",
       "<style scoped>\n",
       "    .dataframe tbody tr th:only-of-type {\n",
       "        vertical-align: middle;\n",
       "    }\n",
       "\n",
       "    .dataframe tbody tr th {\n",
       "        vertical-align: top;\n",
       "    }\n",
       "\n",
       "    .dataframe thead th {\n",
       "        text-align: right;\n",
       "    }\n",
       "</style>\n",
       "<table border=\"1\" class=\"dataframe\">\n",
       "  <thead>\n",
       "    <tr style=\"text-align: right;\">\n",
       "      <th></th>\n",
       "      <th>Region</th>\n",
       "    </tr>\n",
       "    <tr>\n",
       "      <th>Region</th>\n",
       "      <th></th>\n",
       "    </tr>\n",
       "  </thead>\n",
       "  <tbody>\n",
       "    <tr>\n",
       "      <th>-</th>\n",
       "      <td>46</td>\n",
       "    </tr>\n",
       "    <tr>\n",
       "      <th>Australia and New Zealand</th>\n",
       "      <td>12</td>\n",
       "    </tr>\n",
       "    <tr>\n",
       "      <th>Central and Eastern Europe</th>\n",
       "      <td>202</td>\n",
       "    </tr>\n",
       "    <tr>\n",
       "      <th>Commonwealth of Independent States</th>\n",
       "      <td>24</td>\n",
       "    </tr>\n",
       "    <tr>\n",
       "      <th>East Asia</th>\n",
       "      <td>12</td>\n",
       "    </tr>\n",
       "    <tr>\n",
       "      <th>Eastern Asia</th>\n",
       "      <td>32</td>\n",
       "    </tr>\n",
       "    <tr>\n",
       "      <th>Latin America and Caribbean</th>\n",
       "      <td>166</td>\n",
       "    </tr>\n",
       "    <tr>\n",
       "      <th>Middle East and North Africa</th>\n",
       "      <td>34</td>\n",
       "    </tr>\n",
       "    <tr>\n",
       "      <th>Middle East and Northern Africa</th>\n",
       "      <td>108</td>\n",
       "    </tr>\n",
       "    <tr>\n",
       "      <th>North America</th>\n",
       "      <td>12</td>\n",
       "    </tr>\n",
       "    <tr>\n",
       "      <th>North America and ANZ</th>\n",
       "      <td>8</td>\n",
       "    </tr>\n",
       "    <tr>\n",
       "      <th>South Asia</th>\n",
       "      <td>14</td>\n",
       "    </tr>\n",
       "    <tr>\n",
       "      <th>Southeast Asia</th>\n",
       "      <td>18</td>\n",
       "    </tr>\n",
       "    <tr>\n",
       "      <th>Southeastern Asia</th>\n",
       "      <td>53</td>\n",
       "    </tr>\n",
       "    <tr>\n",
       "      <th>Southern Asia</th>\n",
       "      <td>41</td>\n",
       "    </tr>\n",
       "    <tr>\n",
       "      <th>Sub-Saharan Africa</th>\n",
       "      <td>283</td>\n",
       "    </tr>\n",
       "    <tr>\n",
       "      <th>Western Europe</th>\n",
       "      <td>164</td>\n",
       "    </tr>\n",
       "  </tbody>\n",
       "</table>\n",
       "</div>"
      ],
      "text/plain": [
       "                                    Region\n",
       "Region                                    \n",
       "-                                       46\n",
       "Australia and New Zealand               12\n",
       "Central and Eastern Europe             202\n",
       "Commonwealth of Independent States      24\n",
       "East Asia                               12\n",
       "Eastern Asia                            32\n",
       "Latin America and Caribbean            166\n",
       "Middle East and North Africa            34\n",
       "Middle East and Northern Africa        108\n",
       "North America                           12\n",
       "North America and ANZ                    8\n",
       "South Asia                              14\n",
       "Southeast Asia                          18\n",
       "Southeastern Asia                       53\n",
       "Southern Asia                           41\n",
       "Sub-Saharan Africa                     283\n",
       "Western Europe                         164"
      ]
     },
     "execution_count": 9,
     "metadata": {},
     "output_type": "execute_result"
    }
   ],
   "source": [
    "df.groupby(['Region']).agg({'Region':'count'})"
   ]
  },
  {
   "cell_type": "markdown",
   "metadata": {},
   "source": [
    "## 2. Data Cleaning and impute missing data"
   ]
  },
  {
   "cell_type": "code",
   "execution_count": 10,
   "metadata": {
    "scrolled": true
   },
   "outputs": [
    {
     "data": {
      "text/plain": [
       "Happiness Rank                   False\n",
       "Country                          False\n",
       "Region                           False\n",
       "Happiness.Score                  False\n",
       "Economy (GDP per Capita)         False\n",
       "Family (Social Support)          False\n",
       "Health (Life Expectancy)         False\n",
       "Freedom                          False\n",
       "Trust (Government Corruption)    False\n",
       "Generosity                       False\n",
       "Year                             False\n",
       "dtype: bool"
      ]
     },
     "execution_count": 10,
     "metadata": {},
     "output_type": "execute_result"
    }
   ],
   "source": [
    "df.isna().any()"
   ]
  },
  {
   "cell_type": "markdown",
   "metadata": {},
   "source": [
    "### 2.1 Categorical data"
   ]
  },
  {
   "cell_type": "markdown",
   "metadata": {},
   "source": [
    "#### We found that the categorical data of \"Region\" has missing data, and is represented as \"-\". To impute these region data, I first see if the country apprears more than once, and if so, I fill in the \"-' with the right Region value. If not, then I delete the datapoint. "
   ]
  },
  {
   "cell_type": "code",
   "execution_count": 11,
   "metadata": {},
   "outputs": [],
   "source": [
    "missing_region = df[df['Region']=='-']"
   ]
  },
  {
   "cell_type": "code",
   "execution_count": 12,
   "metadata": {},
   "outputs": [
    {
     "data": {
      "text/plain": [
       "(46, 11)"
      ]
     },
     "execution_count": 12,
     "metadata": {},
     "output_type": "execute_result"
    }
   ],
   "source": [
    "missing_region.shape"
   ]
  },
  {
   "cell_type": "code",
   "execution_count": 13,
   "metadata": {},
   "outputs": [],
   "source": [
    "missing= missing_region.groupby(['Country']).agg({'Country':'count'})"
   ]
  },
  {
   "cell_type": "code",
   "execution_count": 14,
   "metadata": {},
   "outputs": [],
   "source": [
    "missing.columns.values[0] = 'count'"
   ]
  },
  {
   "cell_type": "code",
   "execution_count": 15,
   "metadata": {},
   "outputs": [
    {
     "data": {
      "text/html": [
       "<div>\n",
       "<style scoped>\n",
       "    .dataframe tbody tr th:only-of-type {\n",
       "        vertical-align: middle;\n",
       "    }\n",
       "\n",
       "    .dataframe tbody tr th {\n",
       "        vertical-align: top;\n",
       "    }\n",
       "\n",
       "    .dataframe thead th {\n",
       "        text-align: right;\n",
       "    }\n",
       "</style>\n",
       "<table border=\"1\" class=\"dataframe\">\n",
       "  <thead>\n",
       "    <tr style=\"text-align: right;\">\n",
       "      <th></th>\n",
       "      <th>count</th>\n",
       "    </tr>\n",
       "    <tr>\n",
       "      <th>Country</th>\n",
       "      <th></th>\n",
       "    </tr>\n",
       "  </thead>\n",
       "  <tbody>\n",
       "    <tr>\n",
       "      <th>Azerbaijan*</th>\n",
       "      <td>1</td>\n",
       "    </tr>\n",
       "    <tr>\n",
       "      <th>Belarus*</th>\n",
       "      <td>1</td>\n",
       "    </tr>\n",
       "    <tr>\n",
       "      <th>Belize</th>\n",
       "      <td>2</td>\n",
       "    </tr>\n",
       "    <tr>\n",
       "      <th>Botswana*</th>\n",
       "      <td>1</td>\n",
       "    </tr>\n",
       "    <tr>\n",
       "      <th>Chad*</th>\n",
       "      <td>1</td>\n",
       "    </tr>\n",
       "  </tbody>\n",
       "</table>\n",
       "</div>"
      ],
      "text/plain": [
       "             count\n",
       "Country           \n",
       "Azerbaijan*      1\n",
       "Belarus*         1\n",
       "Belize           2\n",
       "Botswana*        1\n",
       "Chad*            1"
      ]
     },
     "execution_count": 15,
     "metadata": {},
     "output_type": "execute_result"
    }
   ],
   "source": [
    "missing.head()"
   ]
  },
  {
   "cell_type": "code",
   "execution_count": 16,
   "metadata": {},
   "outputs": [],
   "source": [
    "all_country = df.groupby(['Country']).agg({'Country':'count'})"
   ]
  },
  {
   "cell_type": "code",
   "execution_count": 17,
   "metadata": {},
   "outputs": [],
   "source": [
    "all_country.columns.values[0] = 'count'"
   ]
  },
  {
   "cell_type": "code",
   "execution_count": 18,
   "metadata": {},
   "outputs": [
    {
     "data": {
      "text/html": [
       "<div>\n",
       "<style scoped>\n",
       "    .dataframe tbody tr th:only-of-type {\n",
       "        vertical-align: middle;\n",
       "    }\n",
       "\n",
       "    .dataframe tbody tr th {\n",
       "        vertical-align: top;\n",
       "    }\n",
       "\n",
       "    .dataframe thead th {\n",
       "        text-align: right;\n",
       "    }\n",
       "</style>\n",
       "<table border=\"1\" class=\"dataframe\">\n",
       "  <thead>\n",
       "    <tr style=\"text-align: right;\">\n",
       "      <th></th>\n",
       "      <th>count</th>\n",
       "    </tr>\n",
       "    <tr>\n",
       "      <th>Country</th>\n",
       "      <th></th>\n",
       "    </tr>\n",
       "  </thead>\n",
       "  <tbody>\n",
       "    <tr>\n",
       "      <th>Afghanistan</th>\n",
       "      <td>8</td>\n",
       "    </tr>\n",
       "    <tr>\n",
       "      <th>Albania</th>\n",
       "      <td>8</td>\n",
       "    </tr>\n",
       "    <tr>\n",
       "      <th>Algeria</th>\n",
       "      <td>8</td>\n",
       "    </tr>\n",
       "    <tr>\n",
       "      <th>Angola</th>\n",
       "      <td>4</td>\n",
       "    </tr>\n",
       "    <tr>\n",
       "      <th>Argentina</th>\n",
       "      <td>8</td>\n",
       "    </tr>\n",
       "  </tbody>\n",
       "</table>\n",
       "</div>"
      ],
      "text/plain": [
       "             count\n",
       "Country           \n",
       "Afghanistan      8\n",
       "Albania          8\n",
       "Algeria          8\n",
       "Angola           4\n",
       "Argentina        8"
      ]
     },
     "execution_count": 18,
     "metadata": {},
     "output_type": "execute_result"
    }
   ],
   "source": [
    "all_country.head()"
   ]
  },
  {
   "cell_type": "code",
   "execution_count": 19,
   "metadata": {},
   "outputs": [],
   "source": [
    "missing_all = missing.merge(all_country, on='Country', suffixes=['_mis','_all'])"
   ]
  },
  {
   "cell_type": "code",
   "execution_count": 20,
   "metadata": {},
   "outputs": [
    {
     "data": {
      "text/html": [
       "<div>\n",
       "<style scoped>\n",
       "    .dataframe tbody tr th:only-of-type {\n",
       "        vertical-align: middle;\n",
       "    }\n",
       "\n",
       "    .dataframe tbody tr th {\n",
       "        vertical-align: top;\n",
       "    }\n",
       "\n",
       "    .dataframe thead th {\n",
       "        text-align: right;\n",
       "    }\n",
       "</style>\n",
       "<table border=\"1\" class=\"dataframe\">\n",
       "  <thead>\n",
       "    <tr style=\"text-align: right;\">\n",
       "      <th></th>\n",
       "      <th>count_mis</th>\n",
       "      <th>count_all</th>\n",
       "    </tr>\n",
       "    <tr>\n",
       "      <th>Country</th>\n",
       "      <th></th>\n",
       "      <th></th>\n",
       "    </tr>\n",
       "  </thead>\n",
       "  <tbody>\n",
       "    <tr>\n",
       "      <th>Azerbaijan*</th>\n",
       "      <td>1</td>\n",
       "      <td>1</td>\n",
       "    </tr>\n",
       "    <tr>\n",
       "      <th>Belarus*</th>\n",
       "      <td>1</td>\n",
       "      <td>1</td>\n",
       "    </tr>\n",
       "    <tr>\n",
       "      <th>Belize</th>\n",
       "      <td>2</td>\n",
       "      <td>3</td>\n",
       "    </tr>\n",
       "    <tr>\n",
       "      <th>Botswana*</th>\n",
       "      <td>1</td>\n",
       "      <td>1</td>\n",
       "    </tr>\n",
       "    <tr>\n",
       "      <th>Chad*</th>\n",
       "      <td>1</td>\n",
       "      <td>1</td>\n",
       "    </tr>\n",
       "  </tbody>\n",
       "</table>\n",
       "</div>"
      ],
      "text/plain": [
       "             count_mis  count_all\n",
       "Country                          \n",
       "Azerbaijan*          1          1\n",
       "Belarus*             1          1\n",
       "Belize               2          3\n",
       "Botswana*            1          1\n",
       "Chad*                1          1"
      ]
     },
     "execution_count": 20,
     "metadata": {},
     "output_type": "execute_result"
    }
   ],
   "source": [
    "missing_all.head()"
   ]
  },
  {
   "cell_type": "markdown",
   "metadata": {},
   "source": [
    "#### Check one of the example where only one occurance of the'Country' doesn't have \"Region\" value:"
   ]
  },
  {
   "cell_type": "code",
   "execution_count": 21,
   "metadata": {},
   "outputs": [
    {
     "data": {
      "text/html": [
       "<div>\n",
       "<style scoped>\n",
       "    .dataframe tbody tr th:only-of-type {\n",
       "        vertical-align: middle;\n",
       "    }\n",
       "\n",
       "    .dataframe tbody tr th {\n",
       "        vertical-align: top;\n",
       "    }\n",
       "\n",
       "    .dataframe thead th {\n",
       "        text-align: right;\n",
       "    }\n",
       "</style>\n",
       "<table border=\"1\" class=\"dataframe\">\n",
       "  <thead>\n",
       "    <tr style=\"text-align: right;\">\n",
       "      <th></th>\n",
       "      <th>Happiness Rank</th>\n",
       "      <th>Country</th>\n",
       "      <th>Region</th>\n",
       "      <th>Happiness.Score</th>\n",
       "      <th>Economy (GDP per Capita)</th>\n",
       "      <th>Family (Social Support)</th>\n",
       "      <th>Health (Life Expectancy)</th>\n",
       "      <th>Freedom</th>\n",
       "      <th>Trust (Government Corruption)</th>\n",
       "      <th>Generosity</th>\n",
       "      <th>Year</th>\n",
       "    </tr>\n",
       "  </thead>\n",
       "  <tbody>\n",
       "    <tr>\n",
       "      <th>858</th>\n",
       "      <td>78</td>\n",
       "      <td>Hong Kong S.A.R. of China</td>\n",
       "      <td>East Asia</td>\n",
       "      <td>5.5104</td>\n",
       "      <td>1.376746</td>\n",
       "      <td>1.243584</td>\n",
       "      <td>1.136631</td>\n",
       "      <td>0.459357</td>\n",
       "      <td>0.332485</td>\n",
       "      <td>0.288281</td>\n",
       "      <td>2020</td>\n",
       "    </tr>\n",
       "    <tr>\n",
       "      <th>1010</th>\n",
       "      <td>77</td>\n",
       "      <td>Hong Kong S.A.R. of China</td>\n",
       "      <td>East Asia</td>\n",
       "      <td>5.4770</td>\n",
       "      <td>1.525000</td>\n",
       "      <td>0.841000</td>\n",
       "      <td>0.893000</td>\n",
       "      <td>0.408000</td>\n",
       "      <td>0.342000</td>\n",
       "      <td>0.232000</td>\n",
       "      <td>2021</td>\n",
       "    </tr>\n",
       "    <tr>\n",
       "      <th>1163</th>\n",
       "      <td>81</td>\n",
       "      <td>Hong Kong S.A.R. of China</td>\n",
       "      <td>-</td>\n",
       "      <td>5.4250</td>\n",
       "      <td>1.957000</td>\n",
       "      <td>0.954000</td>\n",
       "      <td>0.942000</td>\n",
       "      <td>0.400000</td>\n",
       "      <td>0.383000</td>\n",
       "      <td>0.147000</td>\n",
       "      <td>2022</td>\n",
       "    </tr>\n",
       "  </tbody>\n",
       "</table>\n",
       "</div>"
      ],
      "text/plain": [
       "      Happiness Rank                    Country     Region  Happiness.Score  \\\n",
       "858               78  Hong Kong S.A.R. of China  East Asia           5.5104   \n",
       "1010              77  Hong Kong S.A.R. of China  East Asia           5.4770   \n",
       "1163              81  Hong Kong S.A.R. of China          -           5.4250   \n",
       "\n",
       "      Economy (GDP per Capita)  Family (Social Support)  \\\n",
       "858                   1.376746                 1.243584   \n",
       "1010                  1.525000                 0.841000   \n",
       "1163                  1.957000                 0.954000   \n",
       "\n",
       "      Health (Life Expectancy)   Freedom  Trust (Government Corruption)  \\\n",
       "858                   1.136631  0.459357                       0.332485   \n",
       "1010                  0.893000  0.408000                       0.342000   \n",
       "1163                  0.942000  0.400000                       0.383000   \n",
       "\n",
       "      Generosity  Year  \n",
       "858     0.288281  2020  \n",
       "1010    0.232000  2021  \n",
       "1163    0.147000  2022  "
      ]
     },
     "execution_count": 21,
     "metadata": {},
     "output_type": "execute_result"
    }
   ],
   "source": [
    "df[df['Country']=='Hong Kong S.A.R. of China']"
   ]
  },
  {
   "cell_type": "code",
   "execution_count": 22,
   "metadata": {},
   "outputs": [
    {
     "data": {
      "text/plain": [
       "((34, 2), (8, 2))"
      ]
     },
     "execution_count": 22,
     "metadata": {},
     "output_type": "execute_result"
    }
   ],
   "source": [
    "missing_all.shape, missing_all[missing_all['count_mis'] != missing_all['count_all']].shape"
   ]
  },
  {
   "cell_type": "markdown",
   "metadata": {},
   "source": [
    "#### Filter out all the occurance of mapable missing values."
   ]
  },
  {
   "cell_type": "code",
   "execution_count": 23,
   "metadata": {},
   "outputs": [],
   "source": [
    "fix = missing.merge(df[['Country','Region']], on='Country', how ='left')"
   ]
  },
  {
   "cell_type": "code",
   "execution_count": 24,
   "metadata": {},
   "outputs": [],
   "source": [
    "fix=fix[fix['Region'] != '-'].drop_duplicates(subset=['Country'])"
   ]
  },
  {
   "cell_type": "code",
   "execution_count": 25,
   "metadata": {},
   "outputs": [
    {
     "data": {
      "text/html": [
       "<div>\n",
       "<style scoped>\n",
       "    .dataframe tbody tr th:only-of-type {\n",
       "        vertical-align: middle;\n",
       "    }\n",
       "\n",
       "    .dataframe tbody tr th {\n",
       "        vertical-align: top;\n",
       "    }\n",
       "\n",
       "    .dataframe thead th {\n",
       "        text-align: right;\n",
       "    }\n",
       "</style>\n",
       "<table border=\"1\" class=\"dataframe\">\n",
       "  <thead>\n",
       "    <tr style=\"text-align: right;\">\n",
       "      <th></th>\n",
       "      <th>Country</th>\n",
       "      <th>count</th>\n",
       "      <th>Region</th>\n",
       "    </tr>\n",
       "  </thead>\n",
       "  <tbody>\n",
       "    <tr>\n",
       "      <th>2</th>\n",
       "      <td>Belize</td>\n",
       "      <td>2</td>\n",
       "      <td>Latin America and Caribbean</td>\n",
       "    </tr>\n",
       "    <tr>\n",
       "      <th>12</th>\n",
       "      <td>Gambia</td>\n",
       "      <td>1</td>\n",
       "      <td>Sub-Saharan Africa</td>\n",
       "    </tr>\n",
       "    <tr>\n",
       "      <th>16</th>\n",
       "      <td>Hong Kong S.A.R. of China</td>\n",
       "      <td>1</td>\n",
       "      <td>East Asia</td>\n",
       "    </tr>\n",
       "    <tr>\n",
       "      <th>27</th>\n",
       "      <td>Namibia</td>\n",
       "      <td>4</td>\n",
       "      <td>Sub-Saharan Africa</td>\n",
       "    </tr>\n",
       "    <tr>\n",
       "      <th>37</th>\n",
       "      <td>North Macedonia</td>\n",
       "      <td>2</td>\n",
       "      <td>Central and Eastern Europe</td>\n",
       "    </tr>\n",
       "    <tr>\n",
       "      <th>43</th>\n",
       "      <td>Somalia</td>\n",
       "      <td>3</td>\n",
       "      <td>Sub-Saharan Africa</td>\n",
       "    </tr>\n",
       "    <tr>\n",
       "      <th>47</th>\n",
       "      <td>South Sudan</td>\n",
       "      <td>3</td>\n",
       "      <td>Sub-Saharan Africa</td>\n",
       "    </tr>\n",
       "    <tr>\n",
       "      <th>53</th>\n",
       "      <td>Taiwan Province of China</td>\n",
       "      <td>2</td>\n",
       "      <td>East Asia</td>\n",
       "    </tr>\n",
       "  </tbody>\n",
       "</table>\n",
       "</div>"
      ],
      "text/plain": [
       "                      Country  count                       Region\n",
       "2                      Belize      2  Latin America and Caribbean\n",
       "12                     Gambia      1           Sub-Saharan Africa\n",
       "16  Hong Kong S.A.R. of China      1                    East Asia\n",
       "27                    Namibia      4           Sub-Saharan Africa\n",
       "37            North Macedonia      2   Central and Eastern Europe\n",
       "43                    Somalia      3           Sub-Saharan Africa\n",
       "47                South Sudan      3           Sub-Saharan Africa\n",
       "53   Taiwan Province of China      2                    East Asia"
      ]
     },
     "execution_count": 25,
     "metadata": {},
     "output_type": "execute_result"
    }
   ],
   "source": [
    "fix"
   ]
  },
  {
   "cell_type": "markdown",
   "metadata": {},
   "source": [
    "Mapping between Country and Region accordingly for missing values."
   ]
  },
  {
   "cell_type": "code",
   "execution_count": 26,
   "metadata": {},
   "outputs": [],
   "source": [
    "get_row= lambda x: fix.iloc[x]\n",
    "diction={get_row(i)[\"Country\"]:get_row(i)[\"Region\"] for i in range(len(fix))}"
   ]
  },
  {
   "cell_type": "code",
   "execution_count": 27,
   "metadata": {},
   "outputs": [],
   "source": [
    "for country in diction.keys():\n",
    "    df.loc[df['Country']==country, \"Region\"] = diction[country]"
   ]
  },
  {
   "cell_type": "code",
   "execution_count": 28,
   "metadata": {},
   "outputs": [],
   "source": [
    "cond = df['Region']=='-'"
   ]
  },
  {
   "cell_type": "code",
   "execution_count": 29,
   "metadata": {},
   "outputs": [],
   "source": [
    "df_new =df[~cond]"
   ]
  },
  {
   "cell_type": "code",
   "execution_count": 30,
   "metadata": {},
   "outputs": [
    {
     "data": {
      "text/html": [
       "<div>\n",
       "<style scoped>\n",
       "    .dataframe tbody tr th:only-of-type {\n",
       "        vertical-align: middle;\n",
       "    }\n",
       "\n",
       "    .dataframe tbody tr th {\n",
       "        vertical-align: top;\n",
       "    }\n",
       "\n",
       "    .dataframe thead th {\n",
       "        text-align: right;\n",
       "    }\n",
       "</style>\n",
       "<table border=\"1\" class=\"dataframe\">\n",
       "  <thead>\n",
       "    <tr style=\"text-align: right;\">\n",
       "      <th></th>\n",
       "      <th>Region</th>\n",
       "    </tr>\n",
       "    <tr>\n",
       "      <th>Region</th>\n",
       "      <th></th>\n",
       "    </tr>\n",
       "  </thead>\n",
       "  <tbody>\n",
       "    <tr>\n",
       "      <th>Australia and New Zealand</th>\n",
       "      <td>12</td>\n",
       "    </tr>\n",
       "    <tr>\n",
       "      <th>Central and Eastern Europe</th>\n",
       "      <td>204</td>\n",
       "    </tr>\n",
       "    <tr>\n",
       "      <th>Commonwealth of Independent States</th>\n",
       "      <td>24</td>\n",
       "    </tr>\n",
       "    <tr>\n",
       "      <th>East Asia</th>\n",
       "      <td>15</td>\n",
       "    </tr>\n",
       "    <tr>\n",
       "      <th>Eastern Asia</th>\n",
       "      <td>32</td>\n",
       "    </tr>\n",
       "    <tr>\n",
       "      <th>Latin America and Caribbean</th>\n",
       "      <td>168</td>\n",
       "    </tr>\n",
       "    <tr>\n",
       "      <th>Middle East and North Africa</th>\n",
       "      <td>34</td>\n",
       "    </tr>\n",
       "    <tr>\n",
       "      <th>Middle East and Northern Africa</th>\n",
       "      <td>108</td>\n",
       "    </tr>\n",
       "    <tr>\n",
       "      <th>North America</th>\n",
       "      <td>12</td>\n",
       "    </tr>\n",
       "    <tr>\n",
       "      <th>North America and ANZ</th>\n",
       "      <td>8</td>\n",
       "    </tr>\n",
       "    <tr>\n",
       "      <th>South Asia</th>\n",
       "      <td>14</td>\n",
       "    </tr>\n",
       "    <tr>\n",
       "      <th>Southeast Asia</th>\n",
       "      <td>18</td>\n",
       "    </tr>\n",
       "    <tr>\n",
       "      <th>Southeastern Asia</th>\n",
       "      <td>53</td>\n",
       "    </tr>\n",
       "    <tr>\n",
       "      <th>Southern Asia</th>\n",
       "      <td>41</td>\n",
       "    </tr>\n",
       "    <tr>\n",
       "      <th>Sub-Saharan Africa</th>\n",
       "      <td>294</td>\n",
       "    </tr>\n",
       "    <tr>\n",
       "      <th>Western Europe</th>\n",
       "      <td>164</td>\n",
       "    </tr>\n",
       "  </tbody>\n",
       "</table>\n",
       "</div>"
      ],
      "text/plain": [
       "                                    Region\n",
       "Region                                    \n",
       "Australia and New Zealand               12\n",
       "Central and Eastern Europe             204\n",
       "Commonwealth of Independent States      24\n",
       "East Asia                               15\n",
       "Eastern Asia                            32\n",
       "Latin America and Caribbean            168\n",
       "Middle East and North Africa            34\n",
       "Middle East and Northern Africa        108\n",
       "North America                           12\n",
       "North America and ANZ                    8\n",
       "South Asia                              14\n",
       "Southeast Asia                          18\n",
       "Southeastern Asia                       53\n",
       "Southern Asia                           41\n",
       "Sub-Saharan Africa                     294\n",
       "Western Europe                         164"
      ]
     },
     "execution_count": 30,
     "metadata": {},
     "output_type": "execute_result"
    }
   ],
   "source": [
    "df_new.groupby(['Region']).agg({'Region':'count'})"
   ]
  },
  {
   "cell_type": "markdown",
   "metadata": {},
   "source": [
    "#### We see here some of the Region names are duplicated. Therefore, I map the names and regulated them."
   ]
  },
  {
   "cell_type": "code",
   "execution_count": 31,
   "metadata": {},
   "outputs": [],
   "source": [
    "map ={'East Asia':'Eastern Asia','North America and ANZ':'North America',\\\n",
    "      'Middle East and North Africa':'Middle East and Northern Africa',\\\n",
    "      'South Asia':'Southern Asia','Southeast Asia':'Southeastern Asia'}"
   ]
  },
  {
   "cell_type": "code",
   "execution_count": 32,
   "metadata": {},
   "outputs": [],
   "source": [
    "df_new=df_new.replace(map)"
   ]
  },
  {
   "cell_type": "code",
   "execution_count": 33,
   "metadata": {},
   "outputs": [
    {
     "data": {
      "text/plain": [
       "array(['Western Europe', 'North America', 'Australia and New Zealand',\n",
       "       'Middle East and Northern Africa', 'Latin America and Caribbean',\n",
       "       'Southeastern Asia', 'Central and Eastern Europe', 'Eastern Asia',\n",
       "       'Sub-Saharan Africa', 'Southern Asia',\n",
       "       'Commonwealth of Independent States'], dtype=object)"
      ]
     },
     "execution_count": 33,
     "metadata": {},
     "output_type": "execute_result"
    }
   ],
   "source": [
    "df_new['Region'].unique()"
   ]
  },
  {
   "cell_type": "markdown",
   "metadata": {},
   "source": [
    "#### For the Categorical column (Region), I mapped regions for countries that has region records and discard the other 28 datapoints. Also, I replace the names of the Region, so now they're uniformed."
   ]
  },
  {
   "cell_type": "markdown",
   "metadata": {},
   "source": [
    "### 2.2 Numerical data"
   ]
  },
  {
   "cell_type": "markdown",
   "metadata": {},
   "source": [
    "#### For the numerical data, the missing values are imputed as 0. However, this isn't accurate representation of the situation. I think that because the situation of the countries would be similar for similarly ranked countries, and the dataset is rankly ordered. Therefore, I first substitute all 0s with np.Nan, and then use ffill to impute the missing values. "
   ]
  },
  {
   "cell_type": "markdown",
   "metadata": {},
   "source": [
    "#### 1.Substitute all 0 with np.nan"
   ]
  },
  {
   "cell_type": "code",
   "execution_count": 34,
   "metadata": {},
   "outputs": [],
   "source": [
    "  df_new =df_new.replace(0, np.nan)"
   ]
  },
  {
   "cell_type": "code",
   "execution_count": 35,
   "metadata": {},
   "outputs": [
    {
     "data": {
      "text/plain": [
       "Happiness Rank                   False\n",
       "Country                          False\n",
       "Region                           False\n",
       "Happiness.Score                  False\n",
       "Economy (GDP per Capita)          True\n",
       "Family (Social Support)           True\n",
       "Health (Life Expectancy)          True\n",
       "Freedom                           True\n",
       "Trust (Government Corruption)     True\n",
       "Generosity                        True\n",
       "Year                             False\n",
       "dtype: bool"
      ]
     },
     "execution_count": 35,
     "metadata": {},
     "output_type": "execute_result"
    }
   ],
   "source": [
    "df_new.isna().any()"
   ]
  },
  {
   "cell_type": "markdown",
   "metadata": {},
   "source": [
    "#### 2.forward fill the value, because the condition of the country would be similar along the rank."
   ]
  },
  {
   "cell_type": "code",
   "execution_count": 36,
   "metadata": {},
   "outputs": [],
   "source": [
    "df_new=df_new.ffill()"
   ]
  },
  {
   "cell_type": "code",
   "execution_count": 37,
   "metadata": {},
   "outputs": [
    {
     "data": {
      "text/plain": [
       "Happiness Rank                   False\n",
       "Country                          False\n",
       "Region                           False\n",
       "Happiness.Score                  False\n",
       "Economy (GDP per Capita)         False\n",
       "Family (Social Support)          False\n",
       "Health (Life Expectancy)         False\n",
       "Freedom                          False\n",
       "Trust (Government Corruption)    False\n",
       "Generosity                       False\n",
       "Year                             False\n",
       "dtype: bool"
      ]
     },
     "execution_count": 37,
     "metadata": {},
     "output_type": "execute_result"
    }
   ],
   "source": [
    "df_new.isna().any()"
   ]
  },
  {
   "cell_type": "markdown",
   "metadata": {},
   "source": [
    "#### 3. Scale data. Scale the relevent predictors to a scale of [0-10] , which is same as the happiness score. This would make the predictors more explanabale."
   ]
  },
  {
   "cell_type": "code",
   "execution_count": 38,
   "metadata": {},
   "outputs": [],
   "source": [
    "from sklearn.preprocessing import MinMaxScaler"
   ]
  },
  {
   "cell_type": "code",
   "execution_count": 39,
   "metadata": {},
   "outputs": [],
   "source": [
    "scale_data =df_new[[\"Economy (GDP per Capita)\",'Family (Social Support)','Health (Life Expectancy)','Freedom','Trust (Government Corruption)','Generosity']]"
   ]
  },
  {
   "cell_type": "code",
   "execution_count": 40,
   "metadata": {},
   "outputs": [],
   "source": [
    "scaler = MinMaxScaler()\n",
    "df_scaled = scaler.fit_transform(scale_data)\n",
    "df_scaled = pd.DataFrame(df_scaled, columns=[\n",
    "  \"Economy_scale\",'Family_scale',\\\n",
    "    'Health_scale','Freedom_scale',\\\n",
    "    'Trust_scale','Generosity_scale'])"
   ]
  },
  {
   "cell_type": "code",
   "execution_count": 41,
   "metadata": {},
   "outputs": [],
   "source": [
    "df_new=df_new.reset_index()"
   ]
  },
  {
   "cell_type": "code",
   "execution_count": 42,
   "metadata": {},
   "outputs": [],
   "source": [
    "df_scaled=df_scaled.reset_index()"
   ]
  },
  {
   "cell_type": "code",
   "execution_count": 43,
   "metadata": {},
   "outputs": [],
   "source": [
    "df_new1 =pd.concat([df_new, df_scaled], axis = 1)"
   ]
  },
  {
   "cell_type": "code",
   "execution_count": 44,
   "metadata": {},
   "outputs": [
    {
     "data": {
      "text/plain": [
       "(1201, 19)"
      ]
     },
     "execution_count": 44,
     "metadata": {},
     "output_type": "execute_result"
    }
   ],
   "source": [
    "df_new1.shape"
   ]
  },
  {
   "cell_type": "code",
   "execution_count": 45,
   "metadata": {},
   "outputs": [
    {
     "data": {
      "text/html": [
       "<div>\n",
       "<style scoped>\n",
       "    .dataframe tbody tr th:only-of-type {\n",
       "        vertical-align: middle;\n",
       "    }\n",
       "\n",
       "    .dataframe tbody tr th {\n",
       "        vertical-align: top;\n",
       "    }\n",
       "\n",
       "    .dataframe thead th {\n",
       "        text-align: right;\n",
       "    }\n",
       "</style>\n",
       "<table border=\"1\" class=\"dataframe\">\n",
       "  <thead>\n",
       "    <tr style=\"text-align: right;\">\n",
       "      <th></th>\n",
       "      <th>index</th>\n",
       "      <th>Happiness Rank</th>\n",
       "      <th>Country</th>\n",
       "      <th>Region</th>\n",
       "      <th>Happiness.Score</th>\n",
       "      <th>Economy (GDP per Capita)</th>\n",
       "      <th>Family (Social Support)</th>\n",
       "      <th>Health (Life Expectancy)</th>\n",
       "      <th>Freedom</th>\n",
       "      <th>Trust (Government Corruption)</th>\n",
       "      <th>Generosity</th>\n",
       "      <th>Year</th>\n",
       "      <th>index</th>\n",
       "      <th>Economy_scale</th>\n",
       "      <th>Family_scale</th>\n",
       "      <th>Health_scale</th>\n",
       "      <th>Freedom_scale</th>\n",
       "      <th>Trust_scale</th>\n",
       "      <th>Generosity_scale</th>\n",
       "    </tr>\n",
       "  </thead>\n",
       "  <tbody>\n",
       "    <tr>\n",
       "      <th>0</th>\n",
       "      <td>0</td>\n",
       "      <td>1</td>\n",
       "      <td>Switzerland</td>\n",
       "      <td>Western Europe</td>\n",
       "      <td>7.587</td>\n",
       "      <td>1.39651</td>\n",
       "      <td>1.34951</td>\n",
       "      <td>0.94143</td>\n",
       "      <td>0.66557</td>\n",
       "      <td>0.41978</td>\n",
       "      <td>0.29678</td>\n",
       "      <td>2015</td>\n",
       "      <td>0</td>\n",
       "      <td>0.647331</td>\n",
       "      <td>0.814319</td>\n",
       "      <td>0.824235</td>\n",
       "      <td>0.898612</td>\n",
       "      <td>0.714725</td>\n",
       "      <td>0.352584</td>\n",
       "    </tr>\n",
       "    <tr>\n",
       "      <th>1</th>\n",
       "      <td>1</td>\n",
       "      <td>2</td>\n",
       "      <td>Iceland</td>\n",
       "      <td>Western Europe</td>\n",
       "      <td>7.561</td>\n",
       "      <td>1.30232</td>\n",
       "      <td>1.40223</td>\n",
       "      <td>0.94784</td>\n",
       "      <td>0.62877</td>\n",
       "      <td>0.14145</td>\n",
       "      <td>0.43630</td>\n",
       "      <td>2015</td>\n",
       "      <td>1</td>\n",
       "      <td>0.603187</td>\n",
       "      <td>0.847560</td>\n",
       "      <td>0.829880</td>\n",
       "      <td>0.848483</td>\n",
       "      <td>0.239897</td>\n",
       "      <td>0.519457</td>\n",
       "    </tr>\n",
       "    <tr>\n",
       "      <th>2</th>\n",
       "      <td>2</td>\n",
       "      <td>3</td>\n",
       "      <td>Denmark</td>\n",
       "      <td>Western Europe</td>\n",
       "      <td>7.527</td>\n",
       "      <td>1.32548</td>\n",
       "      <td>1.36058</td>\n",
       "      <td>0.87464</td>\n",
       "      <td>0.64938</td>\n",
       "      <td>0.48357</td>\n",
       "      <td>0.34139</td>\n",
       "      <td>2015</td>\n",
       "      <td>2</td>\n",
       "      <td>0.614041</td>\n",
       "      <td>0.821299</td>\n",
       "      <td>0.765412</td>\n",
       "      <td>0.876558</td>\n",
       "      <td>0.823550</td>\n",
       "      <td>0.405940</td>\n",
       "    </tr>\n",
       "    <tr>\n",
       "      <th>3</th>\n",
       "      <td>3</td>\n",
       "      <td>4</td>\n",
       "      <td>Norway</td>\n",
       "      <td>Western Europe</td>\n",
       "      <td>7.522</td>\n",
       "      <td>1.45900</td>\n",
       "      <td>1.33095</td>\n",
       "      <td>0.88521</td>\n",
       "      <td>0.66973</td>\n",
       "      <td>0.36503</td>\n",
       "      <td>0.34699</td>\n",
       "      <td>2015</td>\n",
       "      <td>3</td>\n",
       "      <td>0.676618</td>\n",
       "      <td>0.802617</td>\n",
       "      <td>0.774721</td>\n",
       "      <td>0.904279</td>\n",
       "      <td>0.621322</td>\n",
       "      <td>0.412637</td>\n",
       "    </tr>\n",
       "    <tr>\n",
       "      <th>4</th>\n",
       "      <td>4</td>\n",
       "      <td>5</td>\n",
       "      <td>Canada</td>\n",
       "      <td>North America</td>\n",
       "      <td>7.427</td>\n",
       "      <td>1.32629</td>\n",
       "      <td>1.32261</td>\n",
       "      <td>0.90563</td>\n",
       "      <td>0.63297</td>\n",
       "      <td>0.32957</td>\n",
       "      <td>0.45811</td>\n",
       "      <td>2015</td>\n",
       "      <td>4</td>\n",
       "      <td>0.614421</td>\n",
       "      <td>0.797358</td>\n",
       "      <td>0.792705</td>\n",
       "      <td>0.854204</td>\n",
       "      <td>0.560827</td>\n",
       "      <td>0.545543</td>\n",
       "    </tr>\n",
       "  </tbody>\n",
       "</table>\n",
       "</div>"
      ],
      "text/plain": [
       "   index  Happiness Rank      Country          Region  Happiness.Score  \\\n",
       "0      0               1  Switzerland  Western Europe            7.587   \n",
       "1      1               2      Iceland  Western Europe            7.561   \n",
       "2      2               3      Denmark  Western Europe            7.527   \n",
       "3      3               4       Norway  Western Europe            7.522   \n",
       "4      4               5       Canada   North America            7.427   \n",
       "\n",
       "   Economy (GDP per Capita)  Family (Social Support)  \\\n",
       "0                   1.39651                  1.34951   \n",
       "1                   1.30232                  1.40223   \n",
       "2                   1.32548                  1.36058   \n",
       "3                   1.45900                  1.33095   \n",
       "4                   1.32629                  1.32261   \n",
       "\n",
       "   Health (Life Expectancy)  Freedom  Trust (Government Corruption)  \\\n",
       "0                   0.94143  0.66557                        0.41978   \n",
       "1                   0.94784  0.62877                        0.14145   \n",
       "2                   0.87464  0.64938                        0.48357   \n",
       "3                   0.88521  0.66973                        0.36503   \n",
       "4                   0.90563  0.63297                        0.32957   \n",
       "\n",
       "   Generosity  Year  index  Economy_scale  Family_scale  Health_scale  \\\n",
       "0     0.29678  2015      0       0.647331      0.814319      0.824235   \n",
       "1     0.43630  2015      1       0.603187      0.847560      0.829880   \n",
       "2     0.34139  2015      2       0.614041      0.821299      0.765412   \n",
       "3     0.34699  2015      3       0.676618      0.802617      0.774721   \n",
       "4     0.45811  2015      4       0.614421      0.797358      0.792705   \n",
       "\n",
       "   Freedom_scale  Trust_scale  Generosity_scale  \n",
       "0       0.898612     0.714725          0.352584  \n",
       "1       0.848483     0.239897          0.519457  \n",
       "2       0.876558     0.823550          0.405940  \n",
       "3       0.904279     0.621322          0.412637  \n",
       "4       0.854204     0.560827          0.545543  "
      ]
     },
     "execution_count": 45,
     "metadata": {},
     "output_type": "execute_result"
    }
   ],
   "source": [
    "df_new1.head()"
   ]
  },
  {
   "cell_type": "code",
   "execution_count": 46,
   "metadata": {},
   "outputs": [],
   "source": [
    "df_new2 = df_new1.drop(df_new1.columns[[0, 12]],axis = 1)"
   ]
  },
  {
   "cell_type": "code",
   "execution_count": 47,
   "metadata": {},
   "outputs": [
    {
     "data": {
      "text/html": [
       "<div>\n",
       "<style scoped>\n",
       "    .dataframe tbody tr th:only-of-type {\n",
       "        vertical-align: middle;\n",
       "    }\n",
       "\n",
       "    .dataframe tbody tr th {\n",
       "        vertical-align: top;\n",
       "    }\n",
       "\n",
       "    .dataframe thead th {\n",
       "        text-align: right;\n",
       "    }\n",
       "</style>\n",
       "<table border=\"1\" class=\"dataframe\">\n",
       "  <thead>\n",
       "    <tr style=\"text-align: right;\">\n",
       "      <th></th>\n",
       "      <th>Happiness Rank</th>\n",
       "      <th>Country</th>\n",
       "      <th>Region</th>\n",
       "      <th>Happiness.Score</th>\n",
       "      <th>Economy (GDP per Capita)</th>\n",
       "      <th>Family (Social Support)</th>\n",
       "      <th>Health (Life Expectancy)</th>\n",
       "      <th>Freedom</th>\n",
       "      <th>Trust (Government Corruption)</th>\n",
       "      <th>Generosity</th>\n",
       "      <th>Year</th>\n",
       "      <th>Economy_scale</th>\n",
       "      <th>Family_scale</th>\n",
       "      <th>Health_scale</th>\n",
       "      <th>Freedom_scale</th>\n",
       "      <th>Trust_scale</th>\n",
       "      <th>Generosity_scale</th>\n",
       "    </tr>\n",
       "  </thead>\n",
       "  <tbody>\n",
       "    <tr>\n",
       "      <th>0</th>\n",
       "      <td>1</td>\n",
       "      <td>Switzerland</td>\n",
       "      <td>Western Europe</td>\n",
       "      <td>7.587</td>\n",
       "      <td>1.39651</td>\n",
       "      <td>1.34951</td>\n",
       "      <td>0.94143</td>\n",
       "      <td>0.66557</td>\n",
       "      <td>0.41978</td>\n",
       "      <td>0.29678</td>\n",
       "      <td>2015</td>\n",
       "      <td>0.647331</td>\n",
       "      <td>0.814319</td>\n",
       "      <td>0.824235</td>\n",
       "      <td>0.898612</td>\n",
       "      <td>0.714725</td>\n",
       "      <td>0.352584</td>\n",
       "    </tr>\n",
       "    <tr>\n",
       "      <th>1</th>\n",
       "      <td>2</td>\n",
       "      <td>Iceland</td>\n",
       "      <td>Western Europe</td>\n",
       "      <td>7.561</td>\n",
       "      <td>1.30232</td>\n",
       "      <td>1.40223</td>\n",
       "      <td>0.94784</td>\n",
       "      <td>0.62877</td>\n",
       "      <td>0.14145</td>\n",
       "      <td>0.43630</td>\n",
       "      <td>2015</td>\n",
       "      <td>0.603187</td>\n",
       "      <td>0.847560</td>\n",
       "      <td>0.829880</td>\n",
       "      <td>0.848483</td>\n",
       "      <td>0.239897</td>\n",
       "      <td>0.519457</td>\n",
       "    </tr>\n",
       "    <tr>\n",
       "      <th>2</th>\n",
       "      <td>3</td>\n",
       "      <td>Denmark</td>\n",
       "      <td>Western Europe</td>\n",
       "      <td>7.527</td>\n",
       "      <td>1.32548</td>\n",
       "      <td>1.36058</td>\n",
       "      <td>0.87464</td>\n",
       "      <td>0.64938</td>\n",
       "      <td>0.48357</td>\n",
       "      <td>0.34139</td>\n",
       "      <td>2015</td>\n",
       "      <td>0.614041</td>\n",
       "      <td>0.821299</td>\n",
       "      <td>0.765412</td>\n",
       "      <td>0.876558</td>\n",
       "      <td>0.823550</td>\n",
       "      <td>0.405940</td>\n",
       "    </tr>\n",
       "    <tr>\n",
       "      <th>3</th>\n",
       "      <td>4</td>\n",
       "      <td>Norway</td>\n",
       "      <td>Western Europe</td>\n",
       "      <td>7.522</td>\n",
       "      <td>1.45900</td>\n",
       "      <td>1.33095</td>\n",
       "      <td>0.88521</td>\n",
       "      <td>0.66973</td>\n",
       "      <td>0.36503</td>\n",
       "      <td>0.34699</td>\n",
       "      <td>2015</td>\n",
       "      <td>0.676618</td>\n",
       "      <td>0.802617</td>\n",
       "      <td>0.774721</td>\n",
       "      <td>0.904279</td>\n",
       "      <td>0.621322</td>\n",
       "      <td>0.412637</td>\n",
       "    </tr>\n",
       "    <tr>\n",
       "      <th>4</th>\n",
       "      <td>5</td>\n",
       "      <td>Canada</td>\n",
       "      <td>North America</td>\n",
       "      <td>7.427</td>\n",
       "      <td>1.32629</td>\n",
       "      <td>1.32261</td>\n",
       "      <td>0.90563</td>\n",
       "      <td>0.63297</td>\n",
       "      <td>0.32957</td>\n",
       "      <td>0.45811</td>\n",
       "      <td>2015</td>\n",
       "      <td>0.614421</td>\n",
       "      <td>0.797358</td>\n",
       "      <td>0.792705</td>\n",
       "      <td>0.854204</td>\n",
       "      <td>0.560827</td>\n",
       "      <td>0.545543</td>\n",
       "    </tr>\n",
       "  </tbody>\n",
       "</table>\n",
       "</div>"
      ],
      "text/plain": [
       "   Happiness Rank      Country          Region  Happiness.Score  \\\n",
       "0               1  Switzerland  Western Europe            7.587   \n",
       "1               2      Iceland  Western Europe            7.561   \n",
       "2               3      Denmark  Western Europe            7.527   \n",
       "3               4       Norway  Western Europe            7.522   \n",
       "4               5       Canada   North America            7.427   \n",
       "\n",
       "   Economy (GDP per Capita)  Family (Social Support)  \\\n",
       "0                   1.39651                  1.34951   \n",
       "1                   1.30232                  1.40223   \n",
       "2                   1.32548                  1.36058   \n",
       "3                   1.45900                  1.33095   \n",
       "4                   1.32629                  1.32261   \n",
       "\n",
       "   Health (Life Expectancy)  Freedom  Trust (Government Corruption)  \\\n",
       "0                   0.94143  0.66557                        0.41978   \n",
       "1                   0.94784  0.62877                        0.14145   \n",
       "2                   0.87464  0.64938                        0.48357   \n",
       "3                   0.88521  0.66973                        0.36503   \n",
       "4                   0.90563  0.63297                        0.32957   \n",
       "\n",
       "   Generosity  Year  Economy_scale  Family_scale  Health_scale  Freedom_scale  \\\n",
       "0     0.29678  2015       0.647331      0.814319      0.824235       0.898612   \n",
       "1     0.43630  2015       0.603187      0.847560      0.829880       0.848483   \n",
       "2     0.34139  2015       0.614041      0.821299      0.765412       0.876558   \n",
       "3     0.34699  2015       0.676618      0.802617      0.774721       0.904279   \n",
       "4     0.45811  2015       0.614421      0.797358      0.792705       0.854204   \n",
       "\n",
       "   Trust_scale  Generosity_scale  \n",
       "0     0.714725          0.352584  \n",
       "1     0.239897          0.519457  \n",
       "2     0.823550          0.405940  \n",
       "3     0.621322          0.412637  \n",
       "4     0.560827          0.545543  "
      ]
     },
     "execution_count": 47,
     "metadata": {},
     "output_type": "execute_result"
    }
   ],
   "source": [
    "df_new2.head()"
   ]
  },
  {
   "cell_type": "code",
   "execution_count": 48,
   "metadata": {},
   "outputs": [],
   "source": [
    "df_new2.to_csv('/Users/yibeihu/Desktop/clean_happiness.csv')"
   ]
  },
  {
   "cell_type": "code",
   "execution_count": 49,
   "metadata": {},
   "outputs": [
    {
     "data": {
      "text/html": [
       "<div>\n",
       "<style scoped>\n",
       "    .dataframe tbody tr th:only-of-type {\n",
       "        vertical-align: middle;\n",
       "    }\n",
       "\n",
       "    .dataframe tbody tr th {\n",
       "        vertical-align: top;\n",
       "    }\n",
       "\n",
       "    .dataframe thead th {\n",
       "        text-align: right;\n",
       "    }\n",
       "</style>\n",
       "<table border=\"1\" class=\"dataframe\">\n",
       "  <thead>\n",
       "    <tr style=\"text-align: right;\">\n",
       "      <th></th>\n",
       "      <th>Happiness Rank</th>\n",
       "      <th>Happiness.Score</th>\n",
       "      <th>Economy (GDP per Capita)</th>\n",
       "      <th>Family (Social Support)</th>\n",
       "      <th>Health (Life Expectancy)</th>\n",
       "      <th>Freedom</th>\n",
       "      <th>Trust (Government Corruption)</th>\n",
       "      <th>Generosity</th>\n",
       "      <th>Year</th>\n",
       "      <th>Economy_scale</th>\n",
       "      <th>Family_scale</th>\n",
       "      <th>Health_scale</th>\n",
       "      <th>Freedom_scale</th>\n",
       "      <th>Trust_scale</th>\n",
       "      <th>Generosity_scale</th>\n",
       "    </tr>\n",
       "  </thead>\n",
       "  <tbody>\n",
       "    <tr>\n",
       "      <th>count</th>\n",
       "      <td>1201.000000</td>\n",
       "      <td>1201.000000</td>\n",
       "      <td>1201.000000</td>\n",
       "      <td>1201.000000</td>\n",
       "      <td>1201.000000</td>\n",
       "      <td>1201.000000</td>\n",
       "      <td>1201.000000</td>\n",
       "      <td>1201.000000</td>\n",
       "      <td>1201.000000</td>\n",
       "      <td>1201.000000</td>\n",
       "      <td>1201.000000</td>\n",
       "      <td>1201.000000</td>\n",
       "      <td>1201.000000</td>\n",
       "      <td>1201.000000</td>\n",
       "      <td>1201.000000</td>\n",
       "    </tr>\n",
       "    <tr>\n",
       "      <th>mean</th>\n",
       "      <td>77.203164</td>\n",
       "      <td>5.435828</td>\n",
       "      <td>0.974252</td>\n",
       "      <td>1.039712</td>\n",
       "      <td>0.612900</td>\n",
       "      <td>0.442535</td>\n",
       "      <td>0.130629</td>\n",
       "      <td>0.203889</td>\n",
       "      <td>2018.380516</td>\n",
       "      <td>0.449431</td>\n",
       "      <td>0.618986</td>\n",
       "      <td>0.534892</td>\n",
       "      <td>0.594796</td>\n",
       "      <td>0.221437</td>\n",
       "      <td>0.241481</td>\n",
       "    </tr>\n",
       "    <tr>\n",
       "      <th>std</th>\n",
       "      <td>44.558000</td>\n",
       "      <td>1.117350</td>\n",
       "      <td>0.428065</td>\n",
       "      <td>0.320709</td>\n",
       "      <td>0.236949</td>\n",
       "      <td>0.151039</td>\n",
       "      <td>0.110227</td>\n",
       "      <td>0.114774</td>\n",
       "      <td>2.255568</td>\n",
       "      <td>0.200621</td>\n",
       "      <td>0.202213</td>\n",
       "      <td>0.208686</td>\n",
       "      <td>0.205745</td>\n",
       "      <td>0.188046</td>\n",
       "      <td>0.137275</td>\n",
       "    </tr>\n",
       "    <tr>\n",
       "      <th>min</th>\n",
       "      <td>1.000000</td>\n",
       "      <td>2.404000</td>\n",
       "      <td>0.015300</td>\n",
       "      <td>0.058000</td>\n",
       "      <td>0.005565</td>\n",
       "      <td>0.005890</td>\n",
       "      <td>0.000830</td>\n",
       "      <td>0.001990</td>\n",
       "      <td>2015.000000</td>\n",
       "      <td>0.000000</td>\n",
       "      <td>0.000000</td>\n",
       "      <td>0.000000</td>\n",
       "      <td>0.000000</td>\n",
       "      <td>0.000000</td>\n",
       "      <td>0.000000</td>\n",
       "    </tr>\n",
       "    <tr>\n",
       "      <th>25%</th>\n",
       "      <td>39.000000</td>\n",
       "      <td>4.587000</td>\n",
       "      <td>0.668000</td>\n",
       "      <td>0.830484</td>\n",
       "      <td>0.443000</td>\n",
       "      <td>0.350000</td>\n",
       "      <td>0.056000</td>\n",
       "      <td>0.119730</td>\n",
       "      <td>2016.000000</td>\n",
       "      <td>0.305901</td>\n",
       "      <td>0.487064</td>\n",
       "      <td>0.385258</td>\n",
       "      <td>0.468744</td>\n",
       "      <td>0.094120</td>\n",
       "      <td>0.140823</td>\n",
       "    </tr>\n",
       "    <tr>\n",
       "      <th>50%</th>\n",
       "      <td>77.000000</td>\n",
       "      <td>5.425000</td>\n",
       "      <td>1.010000</td>\n",
       "      <td>1.072840</td>\n",
       "      <td>0.640830</td>\n",
       "      <td>0.457270</td>\n",
       "      <td>0.095000</td>\n",
       "      <td>0.188000</td>\n",
       "      <td>2018.000000</td>\n",
       "      <td>0.466185</td>\n",
       "      <td>0.639874</td>\n",
       "      <td>0.559491</td>\n",
       "      <td>0.614867</td>\n",
       "      <td>0.160654</td>\n",
       "      <td>0.222477</td>\n",
       "    </tr>\n",
       "    <tr>\n",
       "      <th>75%</th>\n",
       "      <td>115.000000</td>\n",
       "      <td>6.253000</td>\n",
       "      <td>1.294000</td>\n",
       "      <td>1.277000</td>\n",
       "      <td>0.791990</td>\n",
       "      <td>0.558733</td>\n",
       "      <td>0.164000</td>\n",
       "      <td>0.261000</td>\n",
       "      <td>2020.000000</td>\n",
       "      <td>0.599288</td>\n",
       "      <td>0.768600</td>\n",
       "      <td>0.692620</td>\n",
       "      <td>0.753079</td>\n",
       "      <td>0.278367</td>\n",
       "      <td>0.309789</td>\n",
       "    </tr>\n",
       "    <tr>\n",
       "      <th>max</th>\n",
       "      <td>158.000000</td>\n",
       "      <td>7.842000</td>\n",
       "      <td>2.149000</td>\n",
       "      <td>1.644000</td>\n",
       "      <td>1.141000</td>\n",
       "      <td>0.740000</td>\n",
       "      <td>0.587000</td>\n",
       "      <td>0.838075</td>\n",
       "      <td>2022.000000</td>\n",
       "      <td>1.000000</td>\n",
       "      <td>1.000000</td>\n",
       "      <td>1.000000</td>\n",
       "      <td>1.000000</td>\n",
       "      <td>1.000000</td>\n",
       "      <td>1.000000</td>\n",
       "    </tr>\n",
       "  </tbody>\n",
       "</table>\n",
       "</div>"
      ],
      "text/plain": [
       "       Happiness Rank  Happiness.Score  Economy (GDP per Capita)  \\\n",
       "count     1201.000000      1201.000000               1201.000000   \n",
       "mean        77.203164         5.435828                  0.974252   \n",
       "std         44.558000         1.117350                  0.428065   \n",
       "min          1.000000         2.404000                  0.015300   \n",
       "25%         39.000000         4.587000                  0.668000   \n",
       "50%         77.000000         5.425000                  1.010000   \n",
       "75%        115.000000         6.253000                  1.294000   \n",
       "max        158.000000         7.842000                  2.149000   \n",
       "\n",
       "       Family (Social Support)  Health (Life Expectancy)      Freedom  \\\n",
       "count              1201.000000               1201.000000  1201.000000   \n",
       "mean                  1.039712                  0.612900     0.442535   \n",
       "std                   0.320709                  0.236949     0.151039   \n",
       "min                   0.058000                  0.005565     0.005890   \n",
       "25%                   0.830484                  0.443000     0.350000   \n",
       "50%                   1.072840                  0.640830     0.457270   \n",
       "75%                   1.277000                  0.791990     0.558733   \n",
       "max                   1.644000                  1.141000     0.740000   \n",
       "\n",
       "       Trust (Government Corruption)   Generosity         Year  Economy_scale  \\\n",
       "count                    1201.000000  1201.000000  1201.000000    1201.000000   \n",
       "mean                        0.130629     0.203889  2018.380516       0.449431   \n",
       "std                         0.110227     0.114774     2.255568       0.200621   \n",
       "min                         0.000830     0.001990  2015.000000       0.000000   \n",
       "25%                         0.056000     0.119730  2016.000000       0.305901   \n",
       "50%                         0.095000     0.188000  2018.000000       0.466185   \n",
       "75%                         0.164000     0.261000  2020.000000       0.599288   \n",
       "max                         0.587000     0.838075  2022.000000       1.000000   \n",
       "\n",
       "       Family_scale  Health_scale  Freedom_scale  Trust_scale  \\\n",
       "count   1201.000000   1201.000000    1201.000000  1201.000000   \n",
       "mean       0.618986      0.534892       0.594796     0.221437   \n",
       "std        0.202213      0.208686       0.205745     0.188046   \n",
       "min        0.000000      0.000000       0.000000     0.000000   \n",
       "25%        0.487064      0.385258       0.468744     0.094120   \n",
       "50%        0.639874      0.559491       0.614867     0.160654   \n",
       "75%        0.768600      0.692620       0.753079     0.278367   \n",
       "max        1.000000      1.000000       1.000000     1.000000   \n",
       "\n",
       "       Generosity_scale  \n",
       "count       1201.000000  \n",
       "mean           0.241481  \n",
       "std            0.137275  \n",
       "min            0.000000  \n",
       "25%            0.140823  \n",
       "50%            0.222477  \n",
       "75%            0.309789  \n",
       "max            1.000000  "
      ]
     },
     "execution_count": 49,
     "metadata": {},
     "output_type": "execute_result"
    }
   ],
   "source": [
    "df_new2.describe()"
   ]
  },
  {
   "cell_type": "markdown",
   "metadata": {},
   "source": [
    "Plot the relationship between happiness score and 6 numerical predictors."
   ]
  },
  {
   "cell_type": "code",
   "execution_count": 50,
   "metadata": {},
   "outputs": [
    {
     "data": {
      "text/plain": [
       "<matplotlib.collections.PathCollection at 0x7f92ae8147c0>"
      ]
     },
     "execution_count": 50,
     "metadata": {},
     "output_type": "execute_result"
    },
    {
     "data": {
      "image/png": "[encoded data removed]",
      "text/plain": [
       "<Figure size 432x288 with 6 Axes>"
      ]
     },
     "metadata": {
      "needs_background": "light"
     },
     "output_type": "display_data"
    }
   ],
   "source": [
    "fig, ax = plt.subplots(2,3)\n",
    "ax[0,0].scatter(df_new2['Happiness.Score'],df_new2['Economy_scale'], alpha = 0.5)\n",
    "ax[0,1].scatter(df_new2['Happiness.Score'],df_new2['Family_scale'], alpha = 0.5)\n",
    "ax[0,2].scatter(df_new2['Happiness.Score'],df_new2['Health_scale'], alpha = 0.5)\n",
    "ax[1,0].scatter(df_new2['Happiness.Score'],df_new2['Freedom_scale'], alpha = 0.5)\n",
    "ax[1,1].scatter(df_new2['Happiness.Score'],df_new2['Trust_scale'], alpha = 0.5)\n",
    "ax[1,2].scatter(df_new2['Happiness.Score'],df_new2['Generosity_scale'], alpha = 0.5)"
   ]
  },
  {
   "cell_type": "code",
   "execution_count": 51,
   "metadata": {},
   "outputs": [
    {
     "name": "stderr",
     "output_type": "stream",
     "text": [
      "<ipython-input-51-b66dd5464a7f>:1: SettingWithCopyWarning: \n",
      "A value is trying to be set on a copy of a slice from a DataFrame.\n",
      "Try using .loc[row_indexer,col_indexer] = value instead\n",
      "\n",
      "See the caveats in the documentation: https://pandas.pydata.org/pandas-docs/stable/user_guide/indexing.html#returning-a-view-versus-a-copy\n",
      "  df_new2['Year_num'] = df_new2['Year']-2015\n"
     ]
    }
   ],
   "source": [
    "df_new2['Year_num'] = df_new2['Year']-2015"
   ]
  },
  {
   "cell_type": "code",
   "execution_count": 52,
   "metadata": {},
   "outputs": [
    {
     "data": {
      "text/plain": [
       "Index(['Happiness Rank', 'Country', 'Region', 'Happiness.Score',\n",
       "       'Economy (GDP per Capita)', 'Family (Social Support)',\n",
       "       'Health (Life Expectancy)', 'Freedom', 'Trust (Government Corruption)',\n",
       "       'Generosity', 'Year', 'Economy_scale', 'Family_scale', 'Health_scale',\n",
       "       'Freedom_scale', 'Trust_scale', 'Generosity_scale', 'Year_num'],\n",
       "      dtype='object')"
      ]
     },
     "execution_count": 52,
     "metadata": {},
     "output_type": "execute_result"
    }
   ],
   "source": [
    "df_new2.columns"
   ]
  },
  {
   "cell_type": "markdown",
   "metadata": {},
   "source": [
    "#### Here we want to turn Region into a categorical variable and turn yearinto a numric variable scaling from 0 to 7"
   ]
  },
  {
   "cell_type": "code",
   "execution_count": 53,
   "metadata": {},
   "outputs": [],
   "source": [
    "df_total = df_new2[['Happiness.Score','Country','Region','Economy_scale','Family_scale','Health_scale',\n",
    "       'Freedom_scale', 'Trust_scale', 'Generosity_scale', 'Year_num']]"
   ]
  },
  {
   "cell_type": "code",
   "execution_count": 54,
   "metadata": {},
   "outputs": [
    {
     "data": {
      "text/html": [
       "<div>\n",
       "<style scoped>\n",
       "    .dataframe tbody tr th:only-of-type {\n",
       "        vertical-align: middle;\n",
       "    }\n",
       "\n",
       "    .dataframe tbody tr th {\n",
       "        vertical-align: top;\n",
       "    }\n",
       "\n",
       "    .dataframe thead th {\n",
       "        text-align: right;\n",
       "    }\n",
       "</style>\n",
       "<table border=\"1\" class=\"dataframe\">\n",
       "  <thead>\n",
       "    <tr style=\"text-align: right;\">\n",
       "      <th></th>\n",
       "      <th>Happiness.Score</th>\n",
       "      <th>Country</th>\n",
       "      <th>Region</th>\n",
       "      <th>Economy_scale</th>\n",
       "      <th>Family_scale</th>\n",
       "      <th>Health_scale</th>\n",
       "      <th>Freedom_scale</th>\n",
       "      <th>Trust_scale</th>\n",
       "      <th>Generosity_scale</th>\n",
       "      <th>Year_num</th>\n",
       "    </tr>\n",
       "  </thead>\n",
       "  <tbody>\n",
       "    <tr>\n",
       "      <th>0</th>\n",
       "      <td>7.587</td>\n",
       "      <td>Switzerland</td>\n",
       "      <td>Western Europe</td>\n",
       "      <td>0.647331</td>\n",
       "      <td>0.814319</td>\n",
       "      <td>0.824235</td>\n",
       "      <td>0.898612</td>\n",
       "      <td>0.714725</td>\n",
       "      <td>0.352584</td>\n",
       "      <td>0</td>\n",
       "    </tr>\n",
       "    <tr>\n",
       "      <th>1</th>\n",
       "      <td>7.561</td>\n",
       "      <td>Iceland</td>\n",
       "      <td>Western Europe</td>\n",
       "      <td>0.603187</td>\n",
       "      <td>0.847560</td>\n",
       "      <td>0.829880</td>\n",
       "      <td>0.848483</td>\n",
       "      <td>0.239897</td>\n",
       "      <td>0.519457</td>\n",
       "      <td>0</td>\n",
       "    </tr>\n",
       "    <tr>\n",
       "      <th>2</th>\n",
       "      <td>7.527</td>\n",
       "      <td>Denmark</td>\n",
       "      <td>Western Europe</td>\n",
       "      <td>0.614041</td>\n",
       "      <td>0.821299</td>\n",
       "      <td>0.765412</td>\n",
       "      <td>0.876558</td>\n",
       "      <td>0.823550</td>\n",
       "      <td>0.405940</td>\n",
       "      <td>0</td>\n",
       "    </tr>\n",
       "    <tr>\n",
       "      <th>3</th>\n",
       "      <td>7.522</td>\n",
       "      <td>Norway</td>\n",
       "      <td>Western Europe</td>\n",
       "      <td>0.676618</td>\n",
       "      <td>0.802617</td>\n",
       "      <td>0.774721</td>\n",
       "      <td>0.904279</td>\n",
       "      <td>0.621322</td>\n",
       "      <td>0.412637</td>\n",
       "      <td>0</td>\n",
       "    </tr>\n",
       "    <tr>\n",
       "      <th>4</th>\n",
       "      <td>7.427</td>\n",
       "      <td>Canada</td>\n",
       "      <td>North America</td>\n",
       "      <td>0.614421</td>\n",
       "      <td>0.797358</td>\n",
       "      <td>0.792705</td>\n",
       "      <td>0.854204</td>\n",
       "      <td>0.560827</td>\n",
       "      <td>0.545543</td>\n",
       "      <td>0</td>\n",
       "    </tr>\n",
       "  </tbody>\n",
       "</table>\n",
       "</div>"
      ],
      "text/plain": [
       "   Happiness.Score      Country          Region  Economy_scale  Family_scale  \\\n",
       "0            7.587  Switzerland  Western Europe       0.647331      0.814319   \n",
       "1            7.561      Iceland  Western Europe       0.603187      0.847560   \n",
       "2            7.527      Denmark  Western Europe       0.614041      0.821299   \n",
       "3            7.522       Norway  Western Europe       0.676618      0.802617   \n",
       "4            7.427       Canada   North America       0.614421      0.797358   \n",
       "\n",
       "   Health_scale  Freedom_scale  Trust_scale  Generosity_scale  Year_num  \n",
       "0      0.824235       0.898612     0.714725          0.352584         0  \n",
       "1      0.829880       0.848483     0.239897          0.519457         0  \n",
       "2      0.765412       0.876558     0.823550          0.405940         0  \n",
       "3      0.774721       0.904279     0.621322          0.412637         0  \n",
       "4      0.792705       0.854204     0.560827          0.545543         0  "
      ]
     },
     "execution_count": 54,
     "metadata": {},
     "output_type": "execute_result"
    }
   ],
   "source": [
    "df_total.head()"
   ]
  },
  {
   "cell_type": "code",
   "execution_count": 55,
   "metadata": {},
   "outputs": [],
   "source": [
    "regions = pd.get_dummies(df_total['Region'])"
   ]
  },
  {
   "cell_type": "code",
   "execution_count": 56,
   "metadata": {},
   "outputs": [
    {
     "data": {
      "text/html": [
       "<div>\n",
       "<style scoped>\n",
       "    .dataframe tbody tr th:only-of-type {\n",
       "        vertical-align: middle;\n",
       "    }\n",
       "\n",
       "    .dataframe tbody tr th {\n",
       "        vertical-align: top;\n",
       "    }\n",
       "\n",
       "    .dataframe thead th {\n",
       "        text-align: right;\n",
       "    }\n",
       "</style>\n",
       "<table border=\"1\" class=\"dataframe\">\n",
       "  <thead>\n",
       "    <tr style=\"text-align: right;\">\n",
       "      <th></th>\n",
       "      <th>Happiness.Score</th>\n",
       "      <th>Country</th>\n",
       "      <th>Region</th>\n",
       "      <th>Economy_scale</th>\n",
       "      <th>Family_scale</th>\n",
       "      <th>Health_scale</th>\n",
       "      <th>Freedom_scale</th>\n",
       "      <th>Trust_scale</th>\n",
       "      <th>Generosity_scale</th>\n",
       "      <th>Year_num</th>\n",
       "      <th>...</th>\n",
       "      <th>Central and Eastern Europe</th>\n",
       "      <th>Commonwealth of Independent States</th>\n",
       "      <th>Eastern Asia</th>\n",
       "      <th>Latin America and Caribbean</th>\n",
       "      <th>Middle East and Northern Africa</th>\n",
       "      <th>North America</th>\n",
       "      <th>Southeastern Asia</th>\n",
       "      <th>Southern Asia</th>\n",
       "      <th>Sub-Saharan Africa</th>\n",
       "      <th>Western Europe</th>\n",
       "    </tr>\n",
       "  </thead>\n",
       "  <tbody>\n",
       "    <tr>\n",
       "      <th>0</th>\n",
       "      <td>7.587</td>\n",
       "      <td>Switzerland</td>\n",
       "      <td>Western Europe</td>\n",
       "      <td>0.647331</td>\n",
       "      <td>0.814319</td>\n",
       "      <td>0.824235</td>\n",
       "      <td>0.898612</td>\n",
       "      <td>0.714725</td>\n",
       "      <td>0.352584</td>\n",
       "      <td>0</td>\n",
       "      <td>...</td>\n",
       "      <td>0</td>\n",
       "      <td>0</td>\n",
       "      <td>0</td>\n",
       "      <td>0</td>\n",
       "      <td>0</td>\n",
       "      <td>0</td>\n",
       "      <td>0</td>\n",
       "      <td>0</td>\n",
       "      <td>0</td>\n",
       "      <td>1</td>\n",
       "    </tr>\n",
       "    <tr>\n",
       "      <th>1</th>\n",
       "      <td>7.561</td>\n",
       "      <td>Iceland</td>\n",
       "      <td>Western Europe</td>\n",
       "      <td>0.603187</td>\n",
       "      <td>0.847560</td>\n",
       "      <td>0.829880</td>\n",
       "      <td>0.848483</td>\n",
       "      <td>0.239897</td>\n",
       "      <td>0.519457</td>\n",
       "      <td>0</td>\n",
       "      <td>...</td>\n",
       "      <td>0</td>\n",
       "      <td>0</td>\n",
       "      <td>0</td>\n",
       "      <td>0</td>\n",
       "      <td>0</td>\n",
       "      <td>0</td>\n",
       "      <td>0</td>\n",
       "      <td>0</td>\n",
       "      <td>0</td>\n",
       "      <td>1</td>\n",
       "    </tr>\n",
       "    <tr>\n",
       "      <th>2</th>\n",
       "      <td>7.527</td>\n",
       "      <td>Denmark</td>\n",
       "      <td>Western Europe</td>\n",
       "      <td>0.614041</td>\n",
       "      <td>0.821299</td>\n",
       "      <td>0.765412</td>\n",
       "      <td>0.876558</td>\n",
       "      <td>0.823550</td>\n",
       "      <td>0.405940</td>\n",
       "      <td>0</td>\n",
       "      <td>...</td>\n",
       "      <td>0</td>\n",
       "      <td>0</td>\n",
       "      <td>0</td>\n",
       "      <td>0</td>\n",
       "      <td>0</td>\n",
       "      <td>0</td>\n",
       "      <td>0</td>\n",
       "      <td>0</td>\n",
       "      <td>0</td>\n",
       "      <td>1</td>\n",
       "    </tr>\n",
       "    <tr>\n",
       "      <th>3</th>\n",
       "      <td>7.522</td>\n",
       "      <td>Norway</td>\n",
       "      <td>Western Europe</td>\n",
       "      <td>0.676618</td>\n",
       "      <td>0.802617</td>\n",
       "      <td>0.774721</td>\n",
       "      <td>0.904279</td>\n",
       "      <td>0.621322</td>\n",
       "      <td>0.412637</td>\n",
       "      <td>0</td>\n",
       "      <td>...</td>\n",
       "      <td>0</td>\n",
       "      <td>0</td>\n",
       "      <td>0</td>\n",
       "      <td>0</td>\n",
       "      <td>0</td>\n",
       "      <td>0</td>\n",
       "      <td>0</td>\n",
       "      <td>0</td>\n",
       "      <td>0</td>\n",
       "      <td>1</td>\n",
       "    </tr>\n",
       "    <tr>\n",
       "      <th>4</th>\n",
       "      <td>7.427</td>\n",
       "      <td>Canada</td>\n",
       "      <td>North America</td>\n",
       "      <td>0.614421</td>\n",
       "      <td>0.797358</td>\n",
       "      <td>0.792705</td>\n",
       "      <td>0.854204</td>\n",
       "      <td>0.560827</td>\n",
       "      <td>0.545543</td>\n",
       "      <td>0</td>\n",
       "      <td>...</td>\n",
       "      <td>0</td>\n",
       "      <td>0</td>\n",
       "      <td>0</td>\n",
       "      <td>0</td>\n",
       "      <td>0</td>\n",
       "      <td>1</td>\n",
       "      <td>0</td>\n",
       "      <td>0</td>\n",
       "      <td>0</td>\n",
       "      <td>0</td>\n",
       "    </tr>\n",
       "  </tbody>\n",
       "</table>\n",
       "<p>5 rows × 21 columns</p>\n",
       "</div>"
      ],
      "text/plain": [
       "   Happiness.Score      Country          Region  Economy_scale  Family_scale  \\\n",
       "0            7.587  Switzerland  Western Europe       0.647331      0.814319   \n",
       "1            7.561      Iceland  Western Europe       0.603187      0.847560   \n",
       "2            7.527      Denmark  Western Europe       0.614041      0.821299   \n",
       "3            7.522       Norway  Western Europe       0.676618      0.802617   \n",
       "4            7.427       Canada   North America       0.614421      0.797358   \n",
       "\n",
       "   Health_scale  Freedom_scale  Trust_scale  Generosity_scale  Year_num  ...  \\\n",
       "0      0.824235       0.898612     0.714725          0.352584         0  ...   \n",
       "1      0.829880       0.848483     0.239897          0.519457         0  ...   \n",
       "2      0.765412       0.876558     0.823550          0.405940         0  ...   \n",
       "3      0.774721       0.904279     0.621322          0.412637         0  ...   \n",
       "4      0.792705       0.854204     0.560827          0.545543         0  ...   \n",
       "\n",
       "   Central and Eastern Europe  Commonwealth of Independent States  \\\n",
       "0                           0                                   0   \n",
       "1                           0                                   0   \n",
       "2                           0                                   0   \n",
       "3                           0                                   0   \n",
       "4                           0                                   0   \n",
       "\n",
       "   Eastern Asia  Latin America and Caribbean  Middle East and Northern Africa  \\\n",
       "0             0                            0                                0   \n",
       "1             0                            0                                0   \n",
       "2             0                            0                                0   \n",
       "3             0                            0                                0   \n",
       "4             0                            0                                0   \n",
       "\n",
       "   North America  Southeastern Asia  Southern Asia  Sub-Saharan Africa  \\\n",
       "0              0                  0              0                   0   \n",
       "1              0                  0              0                   0   \n",
       "2              0                  0              0                   0   \n",
       "3              0                  0              0                   0   \n",
       "4              1                  0              0                   0   \n",
       "\n",
       "   Western Europe  \n",
       "0               1  \n",
       "1               1  \n",
       "2               1  \n",
       "3               1  \n",
       "4               0  \n",
       "\n",
       "[5 rows x 21 columns]"
      ]
     },
     "execution_count": 56,
     "metadata": {},
     "output_type": "execute_result"
    }
   ],
   "source": [
    "df_total = pd.concat([df_total,regions], axis = 1)\n",
    "df_total.head()"
   ]
  },
  {
   "cell_type": "code",
   "execution_count": 57,
   "metadata": {},
   "outputs": [],
   "source": [
    "df_total.drop('Region',axis = 1, inplace = True)"
   ]
  },
  {
   "cell_type": "code",
   "execution_count": 58,
   "metadata": {},
   "outputs": [],
   "source": [
    "df_total.drop('Country',axis = 1, inplace = True)"
   ]
  },
  {
   "cell_type": "code",
   "execution_count": 59,
   "metadata": {},
   "outputs": [
    {
     "data": {
      "text/html": [
       "<div>\n",
       "<style scoped>\n",
       "    .dataframe tbody tr th:only-of-type {\n",
       "        vertical-align: middle;\n",
       "    }\n",
       "\n",
       "    .dataframe tbody tr th {\n",
       "        vertical-align: top;\n",
       "    }\n",
       "\n",
       "    .dataframe thead th {\n",
       "        text-align: right;\n",
       "    }\n",
       "</style>\n",
       "<table border=\"1\" class=\"dataframe\">\n",
       "  <thead>\n",
       "    <tr style=\"text-align: right;\">\n",
       "      <th></th>\n",
       "      <th>Happiness.Score</th>\n",
       "      <th>Economy_scale</th>\n",
       "      <th>Family_scale</th>\n",
       "      <th>Health_scale</th>\n",
       "      <th>Freedom_scale</th>\n",
       "      <th>Trust_scale</th>\n",
       "      <th>Generosity_scale</th>\n",
       "      <th>Year_num</th>\n",
       "      <th>Australia and New Zealand</th>\n",
       "      <th>Central and Eastern Europe</th>\n",
       "      <th>Commonwealth of Independent States</th>\n",
       "      <th>Eastern Asia</th>\n",
       "      <th>Latin America and Caribbean</th>\n",
       "      <th>Middle East and Northern Africa</th>\n",
       "      <th>North America</th>\n",
       "      <th>Southeastern Asia</th>\n",
       "      <th>Southern Asia</th>\n",
       "      <th>Sub-Saharan Africa</th>\n",
       "      <th>Western Europe</th>\n",
       "    </tr>\n",
       "  </thead>\n",
       "  <tbody>\n",
       "    <tr>\n",
       "      <th>0</th>\n",
       "      <td>7.587</td>\n",
       "      <td>0.647331</td>\n",
       "      <td>0.814319</td>\n",
       "      <td>0.824235</td>\n",
       "      <td>0.898612</td>\n",
       "      <td>0.714725</td>\n",
       "      <td>0.352584</td>\n",
       "      <td>0</td>\n",
       "      <td>0</td>\n",
       "      <td>0</td>\n",
       "      <td>0</td>\n",
       "      <td>0</td>\n",
       "      <td>0</td>\n",
       "      <td>0</td>\n",
       "      <td>0</td>\n",
       "      <td>0</td>\n",
       "      <td>0</td>\n",
       "      <td>0</td>\n",
       "      <td>1</td>\n",
       "    </tr>\n",
       "    <tr>\n",
       "      <th>1</th>\n",
       "      <td>7.561</td>\n",
       "      <td>0.603187</td>\n",
       "      <td>0.847560</td>\n",
       "      <td>0.829880</td>\n",
       "      <td>0.848483</td>\n",
       "      <td>0.239897</td>\n",
       "      <td>0.519457</td>\n",
       "      <td>0</td>\n",
       "      <td>0</td>\n",
       "      <td>0</td>\n",
       "      <td>0</td>\n",
       "      <td>0</td>\n",
       "      <td>0</td>\n",
       "      <td>0</td>\n",
       "      <td>0</td>\n",
       "      <td>0</td>\n",
       "      <td>0</td>\n",
       "      <td>0</td>\n",
       "      <td>1</td>\n",
       "    </tr>\n",
       "    <tr>\n",
       "      <th>2</th>\n",
       "      <td>7.527</td>\n",
       "      <td>0.614041</td>\n",
       "      <td>0.821299</td>\n",
       "      <td>0.765412</td>\n",
       "      <td>0.876558</td>\n",
       "      <td>0.823550</td>\n",
       "      <td>0.405940</td>\n",
       "      <td>0</td>\n",
       "      <td>0</td>\n",
       "      <td>0</td>\n",
       "      <td>0</td>\n",
       "      <td>0</td>\n",
       "      <td>0</td>\n",
       "      <td>0</td>\n",
       "      <td>0</td>\n",
       "      <td>0</td>\n",
       "      <td>0</td>\n",
       "      <td>0</td>\n",
       "      <td>1</td>\n",
       "    </tr>\n",
       "    <tr>\n",
       "      <th>3</th>\n",
       "      <td>7.522</td>\n",
       "      <td>0.676618</td>\n",
       "      <td>0.802617</td>\n",
       "      <td>0.774721</td>\n",
       "      <td>0.904279</td>\n",
       "      <td>0.621322</td>\n",
       "      <td>0.412637</td>\n",
       "      <td>0</td>\n",
       "      <td>0</td>\n",
       "      <td>0</td>\n",
       "      <td>0</td>\n",
       "      <td>0</td>\n",
       "      <td>0</td>\n",
       "      <td>0</td>\n",
       "      <td>0</td>\n",
       "      <td>0</td>\n",
       "      <td>0</td>\n",
       "      <td>0</td>\n",
       "      <td>1</td>\n",
       "    </tr>\n",
       "    <tr>\n",
       "      <th>4</th>\n",
       "      <td>7.427</td>\n",
       "      <td>0.614421</td>\n",
       "      <td>0.797358</td>\n",
       "      <td>0.792705</td>\n",
       "      <td>0.854204</td>\n",
       "      <td>0.560827</td>\n",
       "      <td>0.545543</td>\n",
       "      <td>0</td>\n",
       "      <td>0</td>\n",
       "      <td>0</td>\n",
       "      <td>0</td>\n",
       "      <td>0</td>\n",
       "      <td>0</td>\n",
       "      <td>0</td>\n",
       "      <td>1</td>\n",
       "      <td>0</td>\n",
       "      <td>0</td>\n",
       "      <td>0</td>\n",
       "      <td>0</td>\n",
       "    </tr>\n",
       "  </tbody>\n",
       "</table>\n",
       "</div>"
      ],
      "text/plain": [
       "   Happiness.Score  Economy_scale  Family_scale  Health_scale  Freedom_scale  \\\n",
       "0            7.587       0.647331      0.814319      0.824235       0.898612   \n",
       "1            7.561       0.603187      0.847560      0.829880       0.848483   \n",
       "2            7.527       0.614041      0.821299      0.765412       0.876558   \n",
       "3            7.522       0.676618      0.802617      0.774721       0.904279   \n",
       "4            7.427       0.614421      0.797358      0.792705       0.854204   \n",
       "\n",
       "   Trust_scale  Generosity_scale  Year_num  Australia and New Zealand  \\\n",
       "0     0.714725          0.352584         0                          0   \n",
       "1     0.239897          0.519457         0                          0   \n",
       "2     0.823550          0.405940         0                          0   \n",
       "3     0.621322          0.412637         0                          0   \n",
       "4     0.560827          0.545543         0                          0   \n",
       "\n",
       "   Central and Eastern Europe  Commonwealth of Independent States  \\\n",
       "0                           0                                   0   \n",
       "1                           0                                   0   \n",
       "2                           0                                   0   \n",
       "3                           0                                   0   \n",
       "4                           0                                   0   \n",
       "\n",
       "   Eastern Asia  Latin America and Caribbean  Middle East and Northern Africa  \\\n",
       "0             0                            0                                0   \n",
       "1             0                            0                                0   \n",
       "2             0                            0                                0   \n",
       "3             0                            0                                0   \n",
       "4             0                            0                                0   \n",
       "\n",
       "   North America  Southeastern Asia  Southern Asia  Sub-Saharan Africa  \\\n",
       "0              0                  0              0                   0   \n",
       "1              0                  0              0                   0   \n",
       "2              0                  0              0                   0   \n",
       "3              0                  0              0                   0   \n",
       "4              1                  0              0                   0   \n",
       "\n",
       "   Western Europe  \n",
       "0               1  \n",
       "1               1  \n",
       "2               1  \n",
       "3               1  \n",
       "4               0  "
      ]
     },
     "execution_count": 59,
     "metadata": {},
     "output_type": "execute_result"
    }
   ],
   "source": [
    "df_total.head()"
   ]
  },
  {
   "cell_type": "markdown",
   "metadata": {},
   "source": [
    "### 2.3 Split the data into train and test set."
   ]
  },
  {
   "cell_type": "code",
   "execution_count": 60,
   "metadata": {},
   "outputs": [],
   "source": [
    "from sklearn.model_selection import train_test_split"
   ]
  },
  {
   "cell_type": "code",
   "execution_count": 61,
   "metadata": {},
   "outputs": [],
   "source": [
    "X = df_total.drop('Happiness.Score', axis = 1).values\n",
    "y = df_total['Happiness.Score'].values"
   ]
  },
  {
   "cell_type": "code",
   "execution_count": 62,
   "metadata": {},
   "outputs": [],
   "source": [
    "X_train, X_test, y_train, y_test = train_test_split(X, y, test_size= 0.2, stratify = df_new2[\"Region\"])"
   ]
  },
  {
   "cell_type": "markdown",
   "metadata": {},
   "source": [
    "### 2.4  Naive regression model"
   ]
  },
  {
   "cell_type": "code",
   "execution_count": 63,
   "metadata": {},
   "outputs": [
    {
     "data": {
      "text/html": [
       "<table class=\"simpletable\">\n",
       "<caption>OLS Regression Results</caption>\n",
       "<tr>\n",
       "  <th>Dep. Variable:</th>            <td>y</td>        <th>  R-squared:         </th> <td>   0.793</td> \n",
       "</tr>\n",
       "<tr>\n",
       "  <th>Model:</th>                   <td>OLS</td>       <th>  Adj. R-squared:    </th> <td>   0.789</td> \n",
       "</tr>\n",
       "<tr>\n",
       "  <th>Method:</th>             <td>Least Squares</td>  <th>  F-statistic:       </th> <td>   211.8</td> \n",
       "</tr>\n",
       "<tr>\n",
       "  <th>Date:</th>             <td>Thu, 01 Dec 2022</td> <th>  Prob (F-statistic):</th> <td>2.48e-307</td>\n",
       "</tr>\n",
       "<tr>\n",
       "  <th>Time:</th>                 <td>02:16:01</td>     <th>  Log-Likelihood:    </th> <td> -702.79</td> \n",
       "</tr>\n",
       "<tr>\n",
       "  <th>No. Observations:</th>      <td>   960</td>      <th>  AIC:               </th> <td>   1442.</td> \n",
       "</tr>\n",
       "<tr>\n",
       "  <th>Df Residuals:</th>          <td>   942</td>      <th>  BIC:               </th> <td>   1529.</td> \n",
       "</tr>\n",
       "<tr>\n",
       "  <th>Df Model:</th>              <td>    17</td>      <th>                     </th>     <td> </td>    \n",
       "</tr>\n",
       "<tr>\n",
       "  <th>Covariance Type:</th>      <td>nonrobust</td>    <th>                     </th>     <td> </td>    \n",
       "</tr>\n",
       "</table>\n",
       "<table class=\"simpletable\">\n",
       "<tr>\n",
       "    <td></td>       <th>coef</th>     <th>std err</th>      <th>t</th>      <th>P>|t|</th>  <th>[0.025</th>    <th>0.975]</th>  \n",
       "</tr>\n",
       "<tr>\n",
       "  <th>const</th> <td>    2.6373</td> <td>    0.112</td> <td>   23.477</td> <td> 0.000</td> <td>    2.417</td> <td>    2.858</td>\n",
       "</tr>\n",
       "<tr>\n",
       "  <th>x1</th>    <td>    1.8179</td> <td>    0.146</td> <td>   12.448</td> <td> 0.000</td> <td>    1.531</td> <td>    2.105</td>\n",
       "</tr>\n",
       "<tr>\n",
       "  <th>x2</th>    <td>    0.8525</td> <td>    0.110</td> <td>    7.719</td> <td> 0.000</td> <td>    0.636</td> <td>    1.069</td>\n",
       "</tr>\n",
       "<tr>\n",
       "  <th>x3</th>    <td>    0.7417</td> <td>    0.159</td> <td>    4.656</td> <td> 0.000</td> <td>    0.429</td> <td>    1.054</td>\n",
       "</tr>\n",
       "<tr>\n",
       "  <th>x4</th>    <td>    1.1963</td> <td>    0.107</td> <td>   11.171</td> <td> 0.000</td> <td>    0.986</td> <td>    1.406</td>\n",
       "</tr>\n",
       "<tr>\n",
       "  <th>x5</th>    <td>    0.4277</td> <td>    0.118</td> <td>    3.634</td> <td> 0.000</td> <td>    0.197</td> <td>    0.659</td>\n",
       "</tr>\n",
       "<tr>\n",
       "  <th>x6</th>    <td>    0.5209</td> <td>    0.149</td> <td>    3.508</td> <td> 0.000</td> <td>    0.229</td> <td>    0.812</td>\n",
       "</tr>\n",
       "<tr>\n",
       "  <th>x7</th>    <td>   -0.0204</td> <td>    0.008</td> <td>   -2.401</td> <td> 0.017</td> <td>   -0.037</td> <td>   -0.004</td>\n",
       "</tr>\n",
       "<tr>\n",
       "  <th>x8</th>    <td>    0.6313</td> <td>    0.160</td> <td>    3.940</td> <td> 0.000</td> <td>    0.317</td> <td>    0.946</td>\n",
       "</tr>\n",
       "<tr>\n",
       "  <th>x9</th>    <td>    0.2499</td> <td>    0.048</td> <td>    5.210</td> <td> 0.000</td> <td>    0.156</td> <td>    0.344</td>\n",
       "</tr>\n",
       "<tr>\n",
       "  <th>x10</th>   <td>    0.1917</td> <td>    0.111</td> <td>    1.720</td> <td> 0.086</td> <td>   -0.027</td> <td>    0.410</td>\n",
       "</tr>\n",
       "<tr>\n",
       "  <th>x11</th>   <td>    0.0414</td> <td>    0.084</td> <td>    0.493</td> <td> 0.622</td> <td>   -0.123</td> <td>    0.206</td>\n",
       "</tr>\n",
       "<tr>\n",
       "  <th>x12</th>   <td>    0.6286</td> <td>    0.050</td> <td>   12.515</td> <td> 0.000</td> <td>    0.530</td> <td>    0.727</td>\n",
       "</tr>\n",
       "<tr>\n",
       "  <th>x13</th>   <td>    0.0646</td> <td>    0.053</td> <td>    1.223</td> <td> 0.222</td> <td>   -0.039</td> <td>    0.168</td>\n",
       "</tr>\n",
       "<tr>\n",
       "  <th>x14</th>   <td>    0.7895</td> <td>    0.126</td> <td>    6.248</td> <td> 0.000</td> <td>    0.542</td> <td>    1.038</td>\n",
       "</tr>\n",
       "<tr>\n",
       "  <th>x15</th>   <td>   -0.2046</td> <td>    0.072</td> <td>   -2.826</td> <td> 0.005</td> <td>   -0.347</td> <td>   -0.063</td>\n",
       "</tr>\n",
       "<tr>\n",
       "  <th>x16</th>   <td>   -0.2588</td> <td>    0.078</td> <td>   -3.324</td> <td> 0.001</td> <td>   -0.412</td> <td>   -0.106</td>\n",
       "</tr>\n",
       "<tr>\n",
       "  <th>x17</th>   <td>   -0.0992</td> <td>    0.060</td> <td>   -1.657</td> <td> 0.098</td> <td>   -0.217</td> <td>    0.018</td>\n",
       "</tr>\n",
       "<tr>\n",
       "  <th>x18</th>   <td>    0.6027</td> <td>    0.062</td> <td>    9.729</td> <td> 0.000</td> <td>    0.481</td> <td>    0.724</td>\n",
       "</tr>\n",
       "</table>\n",
       "<table class=\"simpletable\">\n",
       "<tr>\n",
       "  <th>Omnibus:</th>       <td>19.257</td> <th>  Durbin-Watson:     </th> <td>   2.022</td>\n",
       "</tr>\n",
       "<tr>\n",
       "  <th>Prob(Omnibus):</th> <td> 0.000</td> <th>  Jarque-Bera (JB):  </th> <td>  24.610</td>\n",
       "</tr>\n",
       "<tr>\n",
       "  <th>Skew:</th>          <td>-0.239</td> <th>  Prob(JB):          </th> <td>4.53e-06</td>\n",
       "</tr>\n",
       "<tr>\n",
       "  <th>Kurtosis:</th>      <td> 3.621</td> <th>  Cond. No.          </th> <td>7.91e+16</td>\n",
       "</tr>\n",
       "</table><br/><br/>Notes:<br/>[1] Standard Errors assume that the covariance matrix of the errors is correctly specified.<br/>[2] The smallest eigenvalue is 2.86e-30. This might indicate that there are<br/>strong multicollinearity problems or that the design matrix is singular."
      ],
      "text/plain": [
       "<class 'statsmodels.iolib.summary.Summary'>\n",
       "\"\"\"\n",
       "                            OLS Regression Results                            \n",
       "==============================================================================\n",
       "Dep. Variable:                      y   R-squared:                       0.793\n",
       "Model:                            OLS   Adj. R-squared:                  0.789\n",
       "Method:                 Least Squares   F-statistic:                     211.8\n",
       "Date:                Thu, 01 Dec 2022   Prob (F-statistic):          2.48e-307\n",
       "Time:                        02:16:01   Log-Likelihood:                -702.79\n",
       "No. Observations:                 960   AIC:                             1442.\n",
       "Df Residuals:                     942   BIC:                             1529.\n",
       "Df Model:                          17                                         \n",
       "Covariance Type:            nonrobust                                         \n",
       "==============================================================================\n",
       "                 coef    std err          t      P>|t|      [0.025      0.975]\n",
       "------------------------------------------------------------------------------\n",
       "const          2.6373      0.112     23.477      0.000       2.417       2.858\n",
       "x1             1.8179      0.146     12.448      0.000       1.531       2.105\n",
       "x2             0.8525      0.110      7.719      0.000       0.636       1.069\n",
       "x3             0.7417      0.159      4.656      0.000       0.429       1.054\n",
       "x4             1.1963      0.107     11.171      0.000       0.986       1.406\n",
       "x5             0.4277      0.118      3.634      0.000       0.197       0.659\n",
       "x6             0.5209      0.149      3.508      0.000       0.229       0.812\n",
       "x7            -0.0204      0.008     -2.401      0.017      -0.037      -0.004\n",
       "x8             0.6313      0.160      3.940      0.000       0.317       0.946\n",
       "x9             0.2499      0.048      5.210      0.000       0.156       0.344\n",
       "x10            0.1917      0.111      1.720      0.086      -0.027       0.410\n",
       "x11            0.0414      0.084      0.493      0.622      -0.123       0.206\n",
       "x12            0.6286      0.050     12.515      0.000       0.530       0.727\n",
       "x13            0.0646      0.053      1.223      0.222      -0.039       0.168\n",
       "x14            0.7895      0.126      6.248      0.000       0.542       1.038\n",
       "x15           -0.2046      0.072     -2.826      0.005      -0.347      -0.063\n",
       "x16           -0.2588      0.078     -3.324      0.001      -0.412      -0.106\n",
       "x17           -0.0992      0.060     -1.657      0.098      -0.217       0.018\n",
       "x18            0.6027      0.062      9.729      0.000       0.481       0.724\n",
       "==============================================================================\n",
       "Omnibus:                       19.257   Durbin-Watson:                   2.022\n",
       "Prob(Omnibus):                  0.000   Jarque-Bera (JB):               24.610\n",
       "Skew:                          -0.239   Prob(JB):                     4.53e-06\n",
       "Kurtosis:                       3.621   Cond. No.                     7.91e+16\n",
       "==============================================================================\n",
       "\n",
       "Notes:\n",
       "[1] Standard Errors assume that the covariance matrix of the errors is correctly specified.\n",
       "[2] The smallest eigenvalue is 2.86e-30. This might indicate that there are\n",
       "strong multicollinearity problems or that the design matrix is singular.\n",
       "\"\"\""
      ]
     },
     "execution_count": 63,
     "metadata": {},
     "output_type": "execute_result"
    }
   ],
   "source": [
    "import statsmodels.api as sm\n",
    "\n",
    "X_train_1 = sm.add_constant(X_train)\n",
    "\n",
    "#fit linear regression model\n",
    "model = sm.OLS(y_train, X_train_1).fit()\n",
    "\n",
    "#view model summary\n",
    "model.summary()"
   ]
  },
  {
   "cell_type": "code",
   "execution_count": 64,
   "metadata": {},
   "outputs": [],
   "source": [
    "from statsmodels.tools.eval_measures import mse"
   ]
  },
  {
   "cell_type": "code",
   "execution_count": 65,
   "metadata": {},
   "outputs": [],
   "source": [
    "y_hat_train = model.predict(sm.add_constant(X_train))"
   ]
  },
  {
   "cell_type": "code",
   "execution_count": 66,
   "metadata": {},
   "outputs": [
    {
     "data": {
      "text/plain": [
       "0.25316233544749395"
      ]
     },
     "execution_count": 66,
     "metadata": {},
     "output_type": "execute_result"
    }
   ],
   "source": [
    "mse(y_hat_train, y_train)"
   ]
  },
  {
   "cell_type": "code",
   "execution_count": 67,
   "metadata": {},
   "outputs": [],
   "source": [
    "y_hat_test = model.predict(sm.add_constant(X_test))"
   ]
  },
  {
   "cell_type": "code",
   "execution_count": 68,
   "metadata": {},
   "outputs": [
    {
     "data": {
      "text/plain": [
       "0.23077626625721448"
      ]
     },
     "execution_count": 68,
     "metadata": {},
     "output_type": "execute_result"
    }
   ],
   "source": [
    "mse(y_test, y_hat_test)"
   ]
  },
  {
   "cell_type": "markdown",
   "metadata": {},
   "source": [
    "#### The mode have roughly 80% for R_square, the variables are all significant under 0.05 level. The MSE for train data is 0.25, and that for test data is 0.233"
   ]
  },
  {
   "cell_type": "markdown",
   "metadata": {},
   "source": [
    "## 3. Data Exploration"
   ]
  },
  {
   "cell_type": "markdown",
   "metadata": {},
   "source": [
    "In this section, I use the clean data to answer some questions and do some data analysis to find the trend in the world happiness data:"
   ]
  },
  {
   "cell_type": "markdown",
   "metadata": {},
   "source": [
    "1.Which countries are doing better or worse comparatively during the pandemic?\\\n",
    "2.Are there multicollinearity among the predictors?\\\n",
    "3.Are world happiness score significantly lower during the Covid? What is the trend in overall happiness, and the other predictors?\\\n",
    "4.Is specific region doing especially good compare to other regions?"
   ]
  },
  {
   "cell_type": "markdown",
   "metadata": {},
   "source": [
    "### 3.1Which countries are doing better or worse comparatively during the pandemic"
   ]
  },
  {
   "cell_type": "code",
   "execution_count": 69,
   "metadata": {},
   "outputs": [
    {
     "data": {
      "text/plain": [
       "((156, 11), (146, 11), (181, 20))"
      ]
     },
     "execution_count": 69,
     "metadata": {},
     "output_type": "execute_result"
    }
   ],
   "source": [
    "df_2019 = df.loc[df.Year==2019]\n",
    "df_2022 = df.loc[df.Year==2022]\n",
    "\n",
    "df_joined = df_2019.merge(df_2022,on=[\"Country\",\"Region\"],how=\"outer\",suffixes=[\"_2019\",\"_2022\"])\n",
    "\n",
    "df_2019.shape,df_2022.shape,df_joined.shape"
   ]
  },
  {
   "cell_type": "code",
   "execution_count": 70,
   "metadata": {},
   "outputs": [
    {
     "data": {
      "text/html": [
       "<div>\n",
       "<style scoped>\n",
       "    .dataframe tbody tr th:only-of-type {\n",
       "        vertical-align: middle;\n",
       "    }\n",
       "\n",
       "    .dataframe tbody tr th {\n",
       "        vertical-align: top;\n",
       "    }\n",
       "\n",
       "    .dataframe thead th {\n",
       "        text-align: right;\n",
       "    }\n",
       "</style>\n",
       "<table border=\"1\" class=\"dataframe\">\n",
       "  <thead>\n",
       "    <tr style=\"text-align: right;\">\n",
       "      <th></th>\n",
       "      <th>Happiness Rank_2019</th>\n",
       "      <th>Country</th>\n",
       "      <th>Region</th>\n",
       "      <th>Happiness.Score_2019</th>\n",
       "      <th>Economy (GDP per Capita)_2019</th>\n",
       "      <th>Family (Social Support)_2019</th>\n",
       "      <th>Health (Life Expectancy)_2019</th>\n",
       "      <th>Freedom_2019</th>\n",
       "      <th>Trust (Government Corruption)_2019</th>\n",
       "      <th>Generosity_2019</th>\n",
       "      <th>Year_2019</th>\n",
       "      <th>Happiness Rank_2022</th>\n",
       "      <th>Happiness.Score_2022</th>\n",
       "      <th>Economy (GDP per Capita)_2022</th>\n",
       "      <th>Family (Social Support)_2022</th>\n",
       "      <th>Health (Life Expectancy)_2022</th>\n",
       "      <th>Freedom_2022</th>\n",
       "      <th>Trust (Government Corruption)_2022</th>\n",
       "      <th>Generosity_2022</th>\n",
       "      <th>Year_2022</th>\n",
       "    </tr>\n",
       "  </thead>\n",
       "  <tbody>\n",
       "    <tr>\n",
       "      <th>0</th>\n",
       "      <td>1.0</td>\n",
       "      <td>Finland</td>\n",
       "      <td>Western Europe</td>\n",
       "      <td>7.769</td>\n",
       "      <td>1.340</td>\n",
       "      <td>1.587</td>\n",
       "      <td>0.986</td>\n",
       "      <td>0.596</td>\n",
       "      <td>0.393</td>\n",
       "      <td>0.153</td>\n",
       "      <td>2019.0</td>\n",
       "      <td>1.0</td>\n",
       "      <td>7.821</td>\n",
       "      <td>1.892</td>\n",
       "      <td>1.258</td>\n",
       "      <td>0.775</td>\n",
       "      <td>0.736</td>\n",
       "      <td>0.534</td>\n",
       "      <td>0.109</td>\n",
       "      <td>2022.0</td>\n",
       "    </tr>\n",
       "    <tr>\n",
       "      <th>1</th>\n",
       "      <td>2.0</td>\n",
       "      <td>Denmark</td>\n",
       "      <td>Western Europe</td>\n",
       "      <td>7.600</td>\n",
       "      <td>1.383</td>\n",
       "      <td>1.573</td>\n",
       "      <td>0.996</td>\n",
       "      <td>0.592</td>\n",
       "      <td>0.410</td>\n",
       "      <td>0.252</td>\n",
       "      <td>2019.0</td>\n",
       "      <td>2.0</td>\n",
       "      <td>7.636</td>\n",
       "      <td>1.953</td>\n",
       "      <td>1.243</td>\n",
       "      <td>0.777</td>\n",
       "      <td>0.719</td>\n",
       "      <td>0.532</td>\n",
       "      <td>0.188</td>\n",
       "      <td>2022.0</td>\n",
       "    </tr>\n",
       "    <tr>\n",
       "      <th>2</th>\n",
       "      <td>3.0</td>\n",
       "      <td>Norway</td>\n",
       "      <td>Western Europe</td>\n",
       "      <td>7.554</td>\n",
       "      <td>1.488</td>\n",
       "      <td>1.582</td>\n",
       "      <td>1.028</td>\n",
       "      <td>0.603</td>\n",
       "      <td>0.341</td>\n",
       "      <td>0.271</td>\n",
       "      <td>2019.0</td>\n",
       "      <td>8.0</td>\n",
       "      <td>7.365</td>\n",
       "      <td>1.997</td>\n",
       "      <td>1.239</td>\n",
       "      <td>0.786</td>\n",
       "      <td>0.728</td>\n",
       "      <td>0.474</td>\n",
       "      <td>0.217</td>\n",
       "      <td>2022.0</td>\n",
       "    </tr>\n",
       "    <tr>\n",
       "      <th>3</th>\n",
       "      <td>4.0</td>\n",
       "      <td>Iceland</td>\n",
       "      <td>Western Europe</td>\n",
       "      <td>7.494</td>\n",
       "      <td>1.380</td>\n",
       "      <td>1.624</td>\n",
       "      <td>1.026</td>\n",
       "      <td>0.591</td>\n",
       "      <td>0.118</td>\n",
       "      <td>0.354</td>\n",
       "      <td>2019.0</td>\n",
       "      <td>3.0</td>\n",
       "      <td>7.557</td>\n",
       "      <td>1.936</td>\n",
       "      <td>1.320</td>\n",
       "      <td>0.803</td>\n",
       "      <td>0.718</td>\n",
       "      <td>0.191</td>\n",
       "      <td>0.270</td>\n",
       "      <td>2022.0</td>\n",
       "    </tr>\n",
       "    <tr>\n",
       "      <th>4</th>\n",
       "      <td>5.0</td>\n",
       "      <td>Netherlands</td>\n",
       "      <td>Western Europe</td>\n",
       "      <td>7.488</td>\n",
       "      <td>1.396</td>\n",
       "      <td>1.522</td>\n",
       "      <td>0.999</td>\n",
       "      <td>0.557</td>\n",
       "      <td>0.298</td>\n",
       "      <td>0.322</td>\n",
       "      <td>2019.0</td>\n",
       "      <td>5.0</td>\n",
       "      <td>7.415</td>\n",
       "      <td>1.945</td>\n",
       "      <td>1.206</td>\n",
       "      <td>0.787</td>\n",
       "      <td>0.651</td>\n",
       "      <td>0.419</td>\n",
       "      <td>0.271</td>\n",
       "      <td>2022.0</td>\n",
       "    </tr>\n",
       "  </tbody>\n",
       "</table>\n",
       "</div>"
      ],
      "text/plain": [
       "   Happiness Rank_2019      Country          Region  Happiness.Score_2019  \\\n",
       "0                  1.0      Finland  Western Europe                 7.769   \n",
       "1                  2.0      Denmark  Western Europe                 7.600   \n",
       "2                  3.0       Norway  Western Europe                 7.554   \n",
       "3                  4.0      Iceland  Western Europe                 7.494   \n",
       "4                  5.0  Netherlands  Western Europe                 7.488   \n",
       "\n",
       "   Economy (GDP per Capita)_2019  Family (Social Support)_2019  \\\n",
       "0                          1.340                         1.587   \n",
       "1                          1.383                         1.573   \n",
       "2                          1.488                         1.582   \n",
       "3                          1.380                         1.624   \n",
       "4                          1.396                         1.522   \n",
       "\n",
       "   Health (Life Expectancy)_2019  Freedom_2019  \\\n",
       "0                          0.986         0.596   \n",
       "1                          0.996         0.592   \n",
       "2                          1.028         0.603   \n",
       "3                          1.026         0.591   \n",
       "4                          0.999         0.557   \n",
       "\n",
       "   Trust (Government Corruption)_2019  Generosity_2019  Year_2019  \\\n",
       "0                               0.393            0.153     2019.0   \n",
       "1                               0.410            0.252     2019.0   \n",
       "2                               0.341            0.271     2019.0   \n",
       "3                               0.118            0.354     2019.0   \n",
       "4                               0.298            0.322     2019.0   \n",
       "\n",
       "   Happiness Rank_2022  Happiness.Score_2022  Economy (GDP per Capita)_2022  \\\n",
       "0                  1.0                 7.821                          1.892   \n",
       "1                  2.0                 7.636                          1.953   \n",
       "2                  8.0                 7.365                          1.997   \n",
       "3                  3.0                 7.557                          1.936   \n",
       "4                  5.0                 7.415                          1.945   \n",
       "\n",
       "   Family (Social Support)_2022  Health (Life Expectancy)_2022  Freedom_2022  \\\n",
       "0                         1.258                          0.775         0.736   \n",
       "1                         1.243                          0.777         0.719   \n",
       "2                         1.239                          0.786         0.728   \n",
       "3                         1.320                          0.803         0.718   \n",
       "4                         1.206                          0.787         0.651   \n",
       "\n",
       "   Trust (Government Corruption)_2022  Generosity_2022  Year_2022  \n",
       "0                               0.534            0.109     2022.0  \n",
       "1                               0.532            0.188     2022.0  \n",
       "2                               0.474            0.217     2022.0  \n",
       "3                               0.191            0.270     2022.0  \n",
       "4                               0.419            0.271     2022.0  "
      ]
     },
     "execution_count": 70,
     "metadata": {},
     "output_type": "execute_result"
    }
   ],
   "source": [
    "df_joined.head()"
   ]
  },
  {
   "cell_type": "code",
   "execution_count": 71,
   "metadata": {},
   "outputs": [],
   "source": [
    "df_joined[\"delta_rank\"] = df_joined[\"Happiness Rank_2019\"] - df_joined[\"Happiness Rank_2022\"]\n",
    "\n",
    "rank_improved = df_joined[\"delta_rank\"]<0"
   ]
  },
  {
   "cell_type": "code",
   "execution_count": 72,
   "metadata": {},
   "outputs": [
    {
     "data": {
      "text/plain": [
       "44"
      ]
     },
     "execution_count": 72,
     "metadata": {},
     "output_type": "execute_result"
    }
   ],
   "source": [
    "sum(rank_improved)"
   ]
  },
  {
   "cell_type": "code",
   "execution_count": 73,
   "metadata": {},
   "outputs": [
    {
     "data": {
      "text/html": [
       "<div>\n",
       "<style scoped>\n",
       "    .dataframe tbody tr th:only-of-type {\n",
       "        vertical-align: middle;\n",
       "    }\n",
       "\n",
       "    .dataframe tbody tr th {\n",
       "        vertical-align: top;\n",
       "    }\n",
       "\n",
       "    .dataframe thead th {\n",
       "        text-align: right;\n",
       "    }\n",
       "</style>\n",
       "<table border=\"1\" class=\"dataframe\">\n",
       "  <thead>\n",
       "    <tr style=\"text-align: right;\">\n",
       "      <th></th>\n",
       "      <th>Country</th>\n",
       "      <th>Happiness Rank_2019</th>\n",
       "      <th>Happiness Rank_2022</th>\n",
       "    </tr>\n",
       "  </thead>\n",
       "  <tbody>\n",
       "    <tr>\n",
       "      <th>132</th>\n",
       "      <td>Ukraine</td>\n",
       "      <td>133.0</td>\n",
       "      <td>98.0</td>\n",
       "    </tr>\n",
       "    <tr>\n",
       "      <th>115</th>\n",
       "      <td>Armenia</td>\n",
       "      <td>116.0</td>\n",
       "      <td>82.0</td>\n",
       "    </tr>\n",
       "    <tr>\n",
       "      <th>124</th>\n",
       "      <td>Bangladesh</td>\n",
       "      <td>125.0</td>\n",
       "      <td>94.0</td>\n",
       "    </tr>\n",
       "    <tr>\n",
       "      <th>74</th>\n",
       "      <td>Croatia</td>\n",
       "      <td>75.0</td>\n",
       "      <td>47.0</td>\n",
       "    </tr>\n",
       "    <tr>\n",
       "      <th>69</th>\n",
       "      <td>Serbia</td>\n",
       "      <td>70.0</td>\n",
       "      <td>43.0</td>\n",
       "    </tr>\n",
       "    <tr>\n",
       "      <th>...</th>\n",
       "      <td>...</td>\n",
       "      <td>...</td>\n",
       "      <td>...</td>\n",
       "    </tr>\n",
       "    <tr>\n",
       "      <th>176</th>\n",
       "      <td>Yemen*</td>\n",
       "      <td>NaN</td>\n",
       "      <td>132.0</td>\n",
       "    </tr>\n",
       "    <tr>\n",
       "      <th>177</th>\n",
       "      <td>Mauritania*</td>\n",
       "      <td>NaN</td>\n",
       "      <td>133.0</td>\n",
       "    </tr>\n",
       "    <tr>\n",
       "      <th>178</th>\n",
       "      <td>Lesotho*</td>\n",
       "      <td>NaN</td>\n",
       "      <td>141.0</td>\n",
       "    </tr>\n",
       "    <tr>\n",
       "      <th>179</th>\n",
       "      <td>Botswana*</td>\n",
       "      <td>NaN</td>\n",
       "      <td>142.0</td>\n",
       "    </tr>\n",
       "    <tr>\n",
       "      <th>180</th>\n",
       "      <td>Rwanda*</td>\n",
       "      <td>NaN</td>\n",
       "      <td>143.0</td>\n",
       "    </tr>\n",
       "  </tbody>\n",
       "</table>\n",
       "<p>181 rows × 3 columns</p>\n",
       "</div>"
      ],
      "text/plain": [
       "         Country  Happiness Rank_2019  Happiness Rank_2022\n",
       "132      Ukraine                133.0                 98.0\n",
       "115      Armenia                116.0                 82.0\n",
       "124   Bangladesh                125.0                 94.0\n",
       "74       Croatia                 75.0                 47.0\n",
       "69        Serbia                 70.0                 43.0\n",
       "..           ...                  ...                  ...\n",
       "176       Yemen*                  NaN                132.0\n",
       "177  Mauritania*                  NaN                133.0\n",
       "178     Lesotho*                  NaN                141.0\n",
       "179    Botswana*                  NaN                142.0\n",
       "180      Rwanda*                  NaN                143.0\n",
       "\n",
       "[181 rows x 3 columns]"
      ]
     },
     "execution_count": 73,
     "metadata": {},
     "output_type": "execute_result"
    }
   ],
   "source": [
    "df_joined.sort_values(by=\"delta_rank\",ascending=False)[[\"Country\",\"Happiness Rank_2019\",\"Happiness Rank_2022\"]]"
   ]
  },
  {
   "cell_type": "code",
   "execution_count": 74,
   "metadata": {},
   "outputs": [
    {
     "data": {
      "text/html": [
       "<div>\n",
       "<style scoped>\n",
       "    .dataframe tbody tr th:only-of-type {\n",
       "        vertical-align: middle;\n",
       "    }\n",
       "\n",
       "    .dataframe tbody tr th {\n",
       "        vertical-align: top;\n",
       "    }\n",
       "\n",
       "    .dataframe thead th {\n",
       "        text-align: right;\n",
       "    }\n",
       "</style>\n",
       "<table border=\"1\" class=\"dataframe\">\n",
       "  <thead>\n",
       "    <tr style=\"text-align: right;\">\n",
       "      <th></th>\n",
       "      <th>Country</th>\n",
       "      <th>Happiness Rank_2019</th>\n",
       "      <th>Happiness Rank_2022</th>\n",
       "    </tr>\n",
       "  </thead>\n",
       "  <tbody>\n",
       "    <tr>\n",
       "      <th>90</th>\n",
       "      <td>Lebanon</td>\n",
       "      <td>91.0</td>\n",
       "      <td>145.0</td>\n",
       "    </tr>\n",
       "    <tr>\n",
       "      <th>66</th>\n",
       "      <td>Pakistan</td>\n",
       "      <td>67.0</td>\n",
       "      <td>121.0</td>\n",
       "    </tr>\n",
       "    <tr>\n",
       "      <th>100</th>\n",
       "      <td>Jordan</td>\n",
       "      <td>101.0</td>\n",
       "      <td>134.0</td>\n",
       "    </tr>\n",
       "    <tr>\n",
       "      <th>84</th>\n",
       "      <td>Nigeria</td>\n",
       "      <td>85.0</td>\n",
       "      <td>118.0</td>\n",
       "    </tr>\n",
       "    <tr>\n",
       "      <th>78</th>\n",
       "      <td>Turkey</td>\n",
       "      <td>79.0</td>\n",
       "      <td>112.0</td>\n",
       "    </tr>\n",
       "    <tr>\n",
       "      <th>...</th>\n",
       "      <td>...</td>\n",
       "      <td>...</td>\n",
       "      <td>...</td>\n",
       "    </tr>\n",
       "    <tr>\n",
       "      <th>176</th>\n",
       "      <td>Yemen*</td>\n",
       "      <td>NaN</td>\n",
       "      <td>132.0</td>\n",
       "    </tr>\n",
       "    <tr>\n",
       "      <th>177</th>\n",
       "      <td>Mauritania*</td>\n",
       "      <td>NaN</td>\n",
       "      <td>133.0</td>\n",
       "    </tr>\n",
       "    <tr>\n",
       "      <th>178</th>\n",
       "      <td>Lesotho*</td>\n",
       "      <td>NaN</td>\n",
       "      <td>141.0</td>\n",
       "    </tr>\n",
       "    <tr>\n",
       "      <th>179</th>\n",
       "      <td>Botswana*</td>\n",
       "      <td>NaN</td>\n",
       "      <td>142.0</td>\n",
       "    </tr>\n",
       "    <tr>\n",
       "      <th>180</th>\n",
       "      <td>Rwanda*</td>\n",
       "      <td>NaN</td>\n",
       "      <td>143.0</td>\n",
       "    </tr>\n",
       "  </tbody>\n",
       "</table>\n",
       "<p>181 rows × 3 columns</p>\n",
       "</div>"
      ],
      "text/plain": [
       "         Country  Happiness Rank_2019  Happiness Rank_2022\n",
       "90       Lebanon                 91.0                145.0\n",
       "66      Pakistan                 67.0                121.0\n",
       "100       Jordan                101.0                134.0\n",
       "84       Nigeria                 85.0                118.0\n",
       "78        Turkey                 79.0                112.0\n",
       "..           ...                  ...                  ...\n",
       "176       Yemen*                  NaN                132.0\n",
       "177  Mauritania*                  NaN                133.0\n",
       "178     Lesotho*                  NaN                141.0\n",
       "179    Botswana*                  NaN                142.0\n",
       "180      Rwanda*                  NaN                143.0\n",
       "\n",
       "[181 rows x 3 columns]"
      ]
     },
     "execution_count": 74,
     "metadata": {},
     "output_type": "execute_result"
    }
   ],
   "source": [
    "df_joined.sort_values(by=\"delta_rank\",ascending=True)[[\"Country\",\"Happiness Rank_2019\",\"Happiness Rank_2022\"]]"
   ]
  },
  {
   "cell_type": "markdown",
   "metadata": {},
   "source": [
    "### 3.2 Are there multicollinearity among the predictors?"
   ]
  },
  {
   "cell_type": "code",
   "execution_count": 75,
   "metadata": {},
   "outputs": [
    {
     "data": {
      "text/html": [
       "<div>\n",
       "<style scoped>\n",
       "    .dataframe tbody tr th:only-of-type {\n",
       "        vertical-align: middle;\n",
       "    }\n",
       "\n",
       "    .dataframe tbody tr th {\n",
       "        vertical-align: top;\n",
       "    }\n",
       "\n",
       "    .dataframe thead th {\n",
       "        text-align: right;\n",
       "    }\n",
       "</style>\n",
       "<table border=\"1\" class=\"dataframe\">\n",
       "  <thead>\n",
       "    <tr style=\"text-align: right;\">\n",
       "      <th></th>\n",
       "      <th>Economy_scale</th>\n",
       "      <th>Family_scale</th>\n",
       "      <th>Health_scale</th>\n",
       "      <th>Freedom_scale</th>\n",
       "      <th>Trust_scale</th>\n",
       "      <th>Generosity_scale</th>\n",
       "    </tr>\n",
       "  </thead>\n",
       "  <tbody>\n",
       "    <tr>\n",
       "      <th>Economy_scale</th>\n",
       "      <td>1.000000</td>\n",
       "      <td>0.480175</td>\n",
       "      <td>0.702291</td>\n",
       "      <td>0.407879</td>\n",
       "      <td>0.344013</td>\n",
       "      <td>-0.105454</td>\n",
       "    </tr>\n",
       "    <tr>\n",
       "      <th>Family_scale</th>\n",
       "      <td>0.480175</td>\n",
       "      <td>1.000000</td>\n",
       "      <td>0.613925</td>\n",
       "      <td>0.324432</td>\n",
       "      <td>0.134923</td>\n",
       "      <td>0.002503</td>\n",
       "    </tr>\n",
       "    <tr>\n",
       "      <th>Health_scale</th>\n",
       "      <td>0.702291</td>\n",
       "      <td>0.613925</td>\n",
       "      <td>1.000000</td>\n",
       "      <td>0.320615</td>\n",
       "      <td>0.278109</td>\n",
       "      <td>-0.010753</td>\n",
       "    </tr>\n",
       "    <tr>\n",
       "      <th>Freedom_scale</th>\n",
       "      <td>0.407879</td>\n",
       "      <td>0.324432</td>\n",
       "      <td>0.320615</td>\n",
       "      <td>1.000000</td>\n",
       "      <td>0.447489</td>\n",
       "      <td>0.178690</td>\n",
       "    </tr>\n",
       "    <tr>\n",
       "      <th>Trust_scale</th>\n",
       "      <td>0.344013</td>\n",
       "      <td>0.134923</td>\n",
       "      <td>0.278109</td>\n",
       "      <td>0.447489</td>\n",
       "      <td>1.000000</td>\n",
       "      <td>0.253673</td>\n",
       "    </tr>\n",
       "    <tr>\n",
       "      <th>Generosity_scale</th>\n",
       "      <td>-0.105454</td>\n",
       "      <td>0.002503</td>\n",
       "      <td>-0.010753</td>\n",
       "      <td>0.178690</td>\n",
       "      <td>0.253673</td>\n",
       "      <td>1.000000</td>\n",
       "    </tr>\n",
       "  </tbody>\n",
       "</table>\n",
       "</div>"
      ],
      "text/plain": [
       "                  Economy_scale  Family_scale  Health_scale  Freedom_scale  \\\n",
       "Economy_scale          1.000000      0.480175      0.702291       0.407879   \n",
       "Family_scale           0.480175      1.000000      0.613925       0.324432   \n",
       "Health_scale           0.702291      0.613925      1.000000       0.320615   \n",
       "Freedom_scale          0.407879      0.324432      0.320615       1.000000   \n",
       "Trust_scale            0.344013      0.134923      0.278109       0.447489   \n",
       "Generosity_scale      -0.105454      0.002503     -0.010753       0.178690   \n",
       "\n",
       "                  Trust_scale  Generosity_scale  \n",
       "Economy_scale        0.344013         -0.105454  \n",
       "Family_scale         0.134923          0.002503  \n",
       "Health_scale         0.278109         -0.010753  \n",
       "Freedom_scale        0.447489          0.178690  \n",
       "Trust_scale          1.000000          0.253673  \n",
       "Generosity_scale     0.253673          1.000000  "
      ]
     },
     "execution_count": 75,
     "metadata": {},
     "output_type": "execute_result"
    }
   ],
   "source": [
    "df_new2[[\"Economy_scale\",'Family_scale','Health_scale','Freedom_scale','Trust_scale','Generosity_scale']].corr()"
   ]
  },
  {
   "cell_type": "code",
   "execution_count": 76,
   "metadata": {},
   "outputs": [],
   "source": [
    "import seaborn as sns\n",
    "import matplotlib.pyplot as plt"
   ]
  },
  {
   "cell_type": "code",
   "execution_count": 77,
   "metadata": {},
   "outputs": [
    {
     "data": {
      "text/plain": [
       "<AxesSubplot:>"
      ]
     },
     "execution_count": 77,
     "metadata": {},
     "output_type": "execute_result"
    },
    {
     "data": {
      "image/png": "[encoded data removed]",
      "text/plain": [
       "<Figure size 432x288 with 2 Axes>"
      ]
     },
     "metadata": {
      "needs_background": "light"
     },
     "output_type": "display_data"
    }
   ],
   "source": [
    "sns.heatmap(df_new2[[\"Economy_scale\",'Family_scale','Health_scale','Freedom_scale','Trust_scale','Generosity_scale']].corr())"
   ]
  },
  {
   "cell_type": "code",
   "execution_count": 78,
   "metadata": {},
   "outputs": [],
   "source": [
    "nums = df_new2[[\"Economy_scale\",'Family_scale','Health_scale','Freedom_scale','Trust_scale','Generosity_scale']]"
   ]
  },
  {
   "cell_type": "markdown",
   "metadata": {},
   "source": [
    "#### To make sure, I'm going to do a VIF test."
   ]
  },
  {
   "cell_type": "code",
   "execution_count": 79,
   "metadata": {},
   "outputs": [],
   "source": [
    "from statsmodels.stats.outliers_influence import variance_inflation_factor as vif"
   ]
  },
  {
   "cell_type": "code",
   "execution_count": 80,
   "metadata": {},
   "outputs": [],
   "source": [
    "VIF = pd.Series([vif(nums.values, i) \n",
    "               for i in range(nums.shape[1])], \n",
    "              index=nums.columns)"
   ]
  },
  {
   "cell_type": "code",
   "execution_count": 81,
   "metadata": {},
   "outputs": [
    {
     "data": {
      "text/plain": [
       "Economy_scale       13.741473\n",
       "Family_scale        15.321092\n",
       "Health_scale        18.652649\n",
       "Freedom_scale       11.756106\n",
       "Trust_scale          3.301896\n",
       "Generosity_scale     4.057352\n",
       "dtype: float64"
      ]
     },
     "execution_count": 81,
     "metadata": {},
     "output_type": "execute_result"
    }
   ],
   "source": [
    "VIF"
   ]
  },
  {
   "cell_type": "code",
   "execution_count": 82,
   "metadata": {},
   "outputs": [],
   "source": [
    "nums = df_new2[[\"Economy_scale\",'Family_scale','Freedom_scale','Trust_scale','Generosity_scale']]"
   ]
  },
  {
   "cell_type": "code",
   "execution_count": 83,
   "metadata": {},
   "outputs": [
    {
     "data": {
      "text/plain": [
       "Economy_scale        9.379630\n",
       "Family_scale        11.249861\n",
       "Freedom_scale       11.747367\n",
       "Trust_scale          3.288315\n",
       "Generosity_scale     4.017133\n",
       "dtype: float64"
      ]
     },
     "execution_count": 83,
     "metadata": {},
     "output_type": "execute_result"
    }
   ],
   "source": [
    "VIF = pd.Series([vif(nums.values, i) \n",
    "               for i in range(nums.shape[1])], \n",
    "              index=nums.columns)\n",
    "VIF"
   ]
  },
  {
   "cell_type": "code",
   "execution_count": 84,
   "metadata": {},
   "outputs": [
    {
     "data": {
      "text/plain": [
       "Economy_scale       8.492405\n",
       "Family_scale        9.349901\n",
       "Trust_scale         3.006608\n",
       "Generosity_scale    3.591060\n",
       "dtype: float64"
      ]
     },
     "execution_count": 84,
     "metadata": {},
     "output_type": "execute_result"
    }
   ],
   "source": [
    "nums = df_new2[[\"Economy_scale\",'Family_scale','Trust_scale','Generosity_scale']]\n",
    "VIF = pd.Series([vif(nums.values, i) \n",
    "               for i in range(nums.shape[1])], \n",
    "              index=nums.columns)\n",
    "VIF"
   ]
  },
  {
   "cell_type": "markdown",
   "metadata": {},
   "source": [
    "#### The VIF test showed multicollinearity among Economy, family, health and freedom. It might be a factor affecting the regression."
   ]
  },
  {
   "cell_type": "markdown",
   "metadata": {},
   "source": [
    "### 3.3 Are world happiness score significantly lower during the Covid? What is the trend in overall happiness, and the other predictors?"
   ]
  },
  {
   "cell_type": "code",
   "execution_count": 85,
   "metadata": {},
   "outputs": [],
   "source": [
    "df_cov = df_total.copy()"
   ]
  },
  {
   "cell_type": "code",
   "execution_count": 86,
   "metadata": {},
   "outputs": [],
   "source": [
    "def if_cov(x):\n",
    "    if x>= 4 and x<= 5:\n",
    "        return 1\n",
    "    else:\n",
    "        return 0\n",
    "df_cov['cov'] = df_cov['Year_num'].apply(lambda x: if_cov(x))"
   ]
  },
  {
   "cell_type": "markdown",
   "metadata": {},
   "source": [
    "#### Check the mean score during covid and not during covid."
   ]
  },
  {
   "cell_type": "code",
   "execution_count": 87,
   "metadata": {},
   "outputs": [
    {
     "data": {
      "text/plain": [
       "cov\n",
       "0    5.435601\n",
       "1    5.436491\n",
       "Name: Happiness.Score, dtype: float64"
      ]
     },
     "execution_count": 87,
     "metadata": {},
     "output_type": "execute_result"
    }
   ],
   "source": [
    "df_cov.groupby(['cov'])['Happiness.Score'].mean()"
   ]
  },
  {
   "cell_type": "code",
   "execution_count": 88,
   "metadata": {},
   "outputs": [],
   "source": [
    "score_no = df_cov[df_cov['cov'] == 0]['Happiness.Score']\n",
    "score_cov = df_cov[df_cov['cov'] == 1]['Happiness.Score']"
   ]
  },
  {
   "cell_type": "code",
   "execution_count": 89,
   "metadata": {},
   "outputs": [],
   "source": [
    "import scipy.stats as stats"
   ]
  },
  {
   "cell_type": "code",
   "execution_count": 90,
   "metadata": {},
   "outputs": [
    {
     "data": {
      "text/plain": [
       "Ttest_indResult(statistic=0.012065472240780367, pvalue=0.9903778952257337)"
      ]
     },
     "execution_count": 90,
     "metadata": {},
     "output_type": "execute_result"
    }
   ],
   "source": [
    "stats.ttest_ind(a=score_cov, b=score_no, equal_var=False)"
   ]
  },
  {
   "cell_type": "markdown",
   "metadata": {},
   "source": [
    "#### Therefore, we conclude that although it's surprising, the happiness scores during covid is not significantly lower than without."
   ]
  },
  {
   "cell_type": "code",
   "execution_count": 91,
   "metadata": {},
   "outputs": [],
   "source": [
    "yearly_happiness = df_cov.groupby(['Year_num'])['Happiness.Score'].mean().reset_index()"
   ]
  },
  {
   "cell_type": "code",
   "execution_count": 92,
   "metadata": {},
   "outputs": [
    {
     "data": {
      "text/html": [
       "<div>\n",
       "<style scoped>\n",
       "    .dataframe tbody tr th:only-of-type {\n",
       "        vertical-align: middle;\n",
       "    }\n",
       "\n",
       "    .dataframe tbody tr th {\n",
       "        vertical-align: top;\n",
       "    }\n",
       "\n",
       "    .dataframe thead th {\n",
       "        text-align: right;\n",
       "    }\n",
       "</style>\n",
       "<table border=\"1\" class=\"dataframe\">\n",
       "  <thead>\n",
       "    <tr style=\"text-align: right;\">\n",
       "      <th></th>\n",
       "      <th>Year_num</th>\n",
       "      <th>Happiness.Score</th>\n",
       "    </tr>\n",
       "  </thead>\n",
       "  <tbody>\n",
       "    <tr>\n",
       "      <th>0</th>\n",
       "      <td>0</td>\n",
       "      <td>5.375734</td>\n",
       "    </tr>\n",
       "    <tr>\n",
       "      <th>1</th>\n",
       "      <td>1</td>\n",
       "      <td>5.382185</td>\n",
       "    </tr>\n",
       "    <tr>\n",
       "      <th>2</th>\n",
       "      <td>2</td>\n",
       "      <td>5.353253</td>\n",
       "    </tr>\n",
       "    <tr>\n",
       "      <th>3</th>\n",
       "      <td>3</td>\n",
       "      <td>5.362366</td>\n",
       "    </tr>\n",
       "    <tr>\n",
       "      <th>4</th>\n",
       "      <td>4</td>\n",
       "      <td>5.399981</td>\n",
       "    </tr>\n",
       "    <tr>\n",
       "      <th>5</th>\n",
       "      <td>5</td>\n",
       "      <td>5.473240</td>\n",
       "    </tr>\n",
       "    <tr>\n",
       "      <th>6</th>\n",
       "      <td>6</td>\n",
       "      <td>5.532839</td>\n",
       "    </tr>\n",
       "    <tr>\n",
       "      <th>7</th>\n",
       "      <td>7</td>\n",
       "      <td>5.657089</td>\n",
       "    </tr>\n",
       "  </tbody>\n",
       "</table>\n",
       "</div>"
      ],
      "text/plain": [
       "   Year_num  Happiness.Score\n",
       "0         0         5.375734\n",
       "1         1         5.382185\n",
       "2         2         5.353253\n",
       "3         3         5.362366\n",
       "4         4         5.399981\n",
       "5         5         5.473240\n",
       "6         6         5.532839\n",
       "7         7         5.657089"
      ]
     },
     "execution_count": 92,
     "metadata": {},
     "output_type": "execute_result"
    }
   ],
   "source": [
    "yearly_happiness "
   ]
  },
  {
   "cell_type": "code",
   "execution_count": 93,
   "metadata": {},
   "outputs": [],
   "source": [
    "year_happiness = []\n",
    "for i in range(8):\n",
    "    arr = df_cov[df_cov['Year_num'] == i]['Happiness.Score']\n",
    "    year_happiness.append(arr)"
   ]
  },
  {
   "cell_type": "code",
   "execution_count": 94,
   "metadata": {},
   "outputs": [
    {
     "data": {
      "image/png": "[encoded data removed]",
      "text/plain": [
       "<Figure size 432x288 with 2 Axes>"
      ]
     },
     "metadata": {
      "needs_background": "light"
     },
     "output_type": "display_data"
    }
   ],
   "source": [
    "fig, ax = plt.subplots(1,2)\n",
    "ax[0].bar(yearly_happiness['Year_num'],yearly_happiness['Happiness.Score'])\n",
    "ax[1].boxplot(year_happiness)\n",
    "plt.show()"
   ]
  },
  {
   "cell_type": "markdown",
   "metadata": {},
   "source": [
    "#### However, de do see an increasing trend of mean happiness score across the years."
   ]
  },
  {
   "cell_type": "markdown",
   "metadata": {},
   "source": [
    "### 3.4 Is specific region doing especially good compare to other regions?"
   ]
  },
  {
   "cell_type": "code",
   "execution_count": 95,
   "metadata": {},
   "outputs": [],
   "source": [
    "df_reg = df_new2.copy()"
   ]
  },
  {
   "cell_type": "code",
   "execution_count": 96,
   "metadata": {},
   "outputs": [],
   "source": [
    "pivot = df_reg.pivot_table(\n",
    "...     columns='Region', \n",
    "...     values='Happiness.Score')"
   ]
  },
  {
   "cell_type": "code",
   "execution_count": 97,
   "metadata": {},
   "outputs": [
    {
     "data": {
      "text/html": [
       "<div>\n",
       "<style scoped>\n",
       "    .dataframe tbody tr th:only-of-type {\n",
       "        vertical-align: middle;\n",
       "    }\n",
       "\n",
       "    .dataframe tbody tr th {\n",
       "        vertical-align: top;\n",
       "    }\n",
       "\n",
       "    .dataframe thead th {\n",
       "        text-align: right;\n",
       "    }\n",
       "</style>\n",
       "<table border=\"1\" class=\"dataframe\">\n",
       "  <thead>\n",
       "    <tr style=\"text-align: right;\">\n",
       "      <th>Region</th>\n",
       "      <th>Australia and New Zealand</th>\n",
       "      <th>Central and Eastern Europe</th>\n",
       "      <th>Commonwealth of Independent States</th>\n",
       "      <th>Eastern Asia</th>\n",
       "      <th>Latin America and Caribbean</th>\n",
       "      <th>Middle East and Northern Africa</th>\n",
       "      <th>North America</th>\n",
       "      <th>Southeastern Asia</th>\n",
       "      <th>Southern Asia</th>\n",
       "      <th>Sub-Saharan Africa</th>\n",
       "      <th>Western Europe</th>\n",
       "    </tr>\n",
       "  </thead>\n",
       "  <tbody>\n",
       "    <tr>\n",
       "      <th>Happiness.Score</th>\n",
       "      <td>7.275667</td>\n",
       "      <td>5.566607</td>\n",
       "      <td>5.412671</td>\n",
       "      <td>5.712406</td>\n",
       "      <td>5.993051</td>\n",
       "      <td>5.288533</td>\n",
       "      <td>7.147855</td>\n",
       "      <td>5.362723</td>\n",
       "      <td>4.515184</td>\n",
       "      <td>4.280453</td>\n",
       "      <td>6.822217</td>\n",
       "    </tr>\n",
       "  </tbody>\n",
       "</table>\n",
       "</div>"
      ],
      "text/plain": [
       "Region           Australia and New Zealand  Central and Eastern Europe  \\\n",
       "Happiness.Score                   7.275667                    5.566607   \n",
       "\n",
       "Region           Commonwealth of Independent States  Eastern Asia  \\\n",
       "Happiness.Score                            5.412671      5.712406   \n",
       "\n",
       "Region           Latin America and Caribbean  Middle East and Northern Africa  \\\n",
       "Happiness.Score                     5.993051                         5.288533   \n",
       "\n",
       "Region           North America  Southeastern Asia  Southern Asia  \\\n",
       "Happiness.Score       7.147855           5.362723       4.515184   \n",
       "\n",
       "Region           Sub-Saharan Africa  Western Europe  \n",
       "Happiness.Score            4.280453        6.822217  "
      ]
     },
     "execution_count": 97,
     "metadata": {},
     "output_type": "execute_result"
    }
   ],
   "source": [
    "pivot"
   ]
  },
  {
   "cell_type": "code",
   "execution_count": 98,
   "metadata": {},
   "outputs": [],
   "source": [
    "region_happiness_mean = df_reg.groupby(['Region'])['Happiness.Score'].mean().reset_index()"
   ]
  },
  {
   "cell_type": "code",
   "execution_count": 99,
   "metadata": {},
   "outputs": [],
   "source": [
    "reg = set(df_reg['Region'].unique())"
   ]
  },
  {
   "cell_type": "code",
   "execution_count": 100,
   "metadata": {},
   "outputs": [],
   "source": [
    "region_happiness = []\n",
    "for i in reg:\n",
    "    #print(i)\n",
    "    arr = df_reg[df_reg['Region'] == i]['Happiness.Score']\n",
    "    #print(arr)\n",
    "    region_happiness.append(arr)"
   ]
  },
  {
   "cell_type": "code",
   "execution_count": 101,
   "metadata": {},
   "outputs": [
    {
     "data": {
      "image/png": "[encoded data removed]",
      "text/plain": [
       "<Figure size 432x288 with 2 Axes>"
      ]
     },
     "metadata": {
      "needs_background": "light"
     },
     "output_type": "display_data"
    }
   ],
   "source": [
    "fig, ax = plt.subplots(1,2)\n",
    "ax[0].bar(region_happiness_mean['Region'],region_happiness_mean['Happiness.Score'])\n",
    "ax[1].boxplot(region_happiness)\n",
    "plt.show()"
   ]
  },
  {
   "cell_type": "markdown",
   "metadata": {},
   "source": [
    "#### It seems like happiness score are very different across region. I further conduct a Tukey test to exam this hypothesis."
   ]
  },
  {
   "cell_type": "code",
   "execution_count": 102,
   "metadata": {},
   "outputs": [],
   "source": [
    "from statsmodels.stats.multicomp import pairwise_tukeyhsd"
   ]
  },
  {
   "cell_type": "code",
   "execution_count": 103,
   "metadata": {},
   "outputs": [],
   "source": [
    "df_reg_happiness = pd.DataFrame({\"score\":df_reg['Happiness.Score'], 'region':df_reg['Region']})"
   ]
  },
  {
   "cell_type": "code",
   "execution_count": 104,
   "metadata": {},
   "outputs": [],
   "source": [
    "tukey = pairwise_tukeyhsd(endog=df_reg_happiness['score'],\n",
    "                          groups=df_reg_happiness['region'],\n",
    "                          alpha=0.05)"
   ]
  },
  {
   "cell_type": "code",
   "execution_count": 105,
   "metadata": {},
   "outputs": [
    {
     "name": "stdout",
     "output_type": "stream",
     "text": [
      "                            Multiple Comparison of Means - Tukey HSD, FWER=0.05                             \n",
      "============================================================================================================\n",
      "              group1                             group2               meandiff p-adj   lower   upper  reject\n",
      "------------------------------------------------------------------------------------------------------------\n",
      "         Australia and New Zealand         Central and Eastern Europe  -1.7091  0.001  -2.379 -1.0392   True\n",
      "         Australia and New Zealand Commonwealth of Independent States   -1.863  0.001 -2.6603 -1.0657   True\n",
      "         Australia and New Zealand                       Eastern Asia  -1.5633  0.001 -2.2927 -0.8338   True\n",
      "         Australia and New Zealand        Latin America and Caribbean  -1.2826  0.001 -1.9565 -0.6087   True\n",
      "         Australia and New Zealand    Middle East and Northern Africa  -1.9871  0.001 -2.6651 -1.3092   True\n",
      "         Australia and New Zealand                      North America  -0.1278    0.9 -0.9513  0.6957  False\n",
      "         Australia and New Zealand                  Southeastern Asia  -1.9129  0.001 -2.6168 -1.2091   True\n",
      "         Australia and New Zealand                      Southern Asia  -2.7605  0.001  -3.479 -2.0419   True\n",
      "         Australia and New Zealand                 Sub-Saharan Africa  -2.9952  0.001 -3.6594  -2.331   True\n",
      "         Australia and New Zealand                     Western Europe  -0.4534  0.524 -1.1279   0.221  False\n",
      "        Central and Eastern Europe Commonwealth of Independent States  -0.1539    0.9 -0.6406  0.3327  False\n",
      "        Central and Eastern Europe                       Eastern Asia   0.1458    0.9 -0.2191  0.5107  False\n",
      "        Central and Eastern Europe        Latin America and Caribbean   0.4264  0.001  0.1915  0.6614   True\n",
      "        Central and Eastern Europe    Middle East and Northern Africa  -0.2781 0.0128 -0.5245 -0.0316   True\n",
      "        Central and Eastern Europe                      North America   1.5812  0.001  1.0528  2.1097   True\n",
      "        Central and Eastern Europe                  Southeastern Asia  -0.2039 0.5565 -0.5146  0.1069  False\n",
      "        Central and Eastern Europe                      Southern Asia  -1.0514  0.001 -1.3941 -0.7088   True\n",
      "        Central and Eastern Europe                 Sub-Saharan Africa  -1.2862  0.001 -1.4917 -1.0807   True\n",
      "        Central and Eastern Europe                     Western Europe   1.2556  0.001  1.0191  1.4921   True\n",
      "Commonwealth of Independent States                       Eastern Asia   0.2997 0.8093 -0.2661  0.8655  False\n",
      "Commonwealth of Independent States        Latin America and Caribbean   0.5804  0.007  0.0883  1.0725   True\n",
      "Commonwealth of Independent States    Middle East and Northern Africa  -0.1241    0.9 -0.6219  0.3736  False\n",
      "Commonwealth of Independent States                      North America   1.7352  0.001  1.0524   2.418   True\n",
      "Commonwealth of Independent States                  Southeastern Asia  -0.0499    0.9 -0.5824  0.4825  False\n",
      "Commonwealth of Independent States                      Southern Asia  -0.8975  0.001 -1.4492 -0.3458   True\n",
      "Commonwealth of Independent States                 Sub-Saharan Africa  -1.1322  0.001  -1.611 -0.6535   True\n",
      "Commonwealth of Independent States                     Western Europe   1.4095  0.001  0.9167  1.9024   True\n",
      "                      Eastern Asia        Latin America and Caribbean   0.2806 0.3477 -0.0915  0.6528  False\n",
      "                      Eastern Asia    Middle East and Northern Africa  -0.4239 0.0145 -0.8034 -0.0444   True\n",
      "                      Eastern Asia                      North America   1.4354  0.001  0.8334  2.0375   True\n",
      "                      Eastern Asia                  Southeastern Asia  -0.3497 0.2201 -0.7738  0.0744  False\n",
      "                      Eastern Asia                      Southern Asia  -1.1972  0.001 -1.6452 -0.7492   True\n",
      "                      Eastern Asia                 Sub-Saharan Africa   -1.432  0.001 -1.7862 -1.0777   True\n",
      "                      Eastern Asia                     Western Europe   1.1098  0.001  0.7367  1.4829   True\n",
      "       Latin America and Caribbean    Middle East and Northern Africa  -0.7045  0.001 -0.9616 -0.4474   True\n",
      "       Latin America and Caribbean                      North America   1.1548  0.001  0.6214  1.6883   True\n",
      "       Latin America and Caribbean                  Southeastern Asia  -0.6303  0.001 -0.9496 -0.3111   True\n",
      "       Latin America and Caribbean                      Southern Asia  -1.4779  0.001 -1.8282 -1.1275   True\n",
      "       Latin America and Caribbean                 Sub-Saharan Africa  -1.7126  0.001 -1.9307 -1.4945   True\n",
      "       Latin America and Caribbean                     Western Europe   0.8292  0.001  0.5816  1.0767   True\n",
      "   Middle East and Northern Africa                      North America   1.8593  0.001  1.3207  2.3979   True\n",
      "   Middle East and Northern Africa                  Southeastern Asia   0.0742    0.9 -0.2536   0.402  False\n",
      "   Middle East and Northern Africa                      Southern Asia  -0.7733  0.001 -1.1315 -0.4152   True\n",
      "   Middle East and Northern Africa                 Sub-Saharan Africa  -1.0081  0.001 -1.2385 -0.7776   True\n",
      "   Middle East and Northern Africa                     Western Europe   1.5337  0.001  1.2752  1.7922   True\n",
      "                     North America                  Southeastern Asia  -1.7851  0.001  -2.356 -1.2142   True\n",
      "                     North America                      Southern Asia  -2.6327  0.001 -3.2215 -2.0438   True\n",
      "                     North America                 Sub-Saharan Africa  -2.8674  0.001 -3.3886 -2.3463   True\n",
      "                     North America                     Western Europe  -0.3256 0.6495 -0.8598  0.2085  False\n",
      "                 Southeastern Asia                      Southern Asia  -0.8475  0.001 -1.2526 -0.4424   True\n",
      "                 Southeastern Asia                 Sub-Saharan Africa  -1.0823  0.001 -1.3805 -0.7841   True\n",
      "                 Southeastern Asia                     Western Europe   1.4595  0.001  1.1391  1.7799   True\n",
      "                     Southern Asia                 Sub-Saharan Africa  -0.2347 0.4485  -0.566  0.0966  False\n",
      "                     Southern Asia                     Western Europe    2.307  0.001  1.9556  2.6584   True\n",
      "                Sub-Saharan Africa                     Western Europe   2.5418  0.001   2.322  2.7616   True\n",
      "------------------------------------------------------------------------------------------------------------\n"
     ]
    }
   ],
   "source": [
    "print(tukey)"
   ]
  },
  {
   "cell_type": "markdown",
   "metadata": {},
   "source": [
    "#### Indeed, we saw most of the region's happiness scores are significantly different."
   ]
  },
  {
   "cell_type": "markdown",
   "metadata": {},
   "source": [
    "## 4. Regression Analysis"
   ]
  },
  {
   "cell_type": "markdown",
   "metadata": {},
   "source": [
    "#### In this section I'm going to explore three approaches that would enhance my regression model performance: Ridge regression, Drop one correlated variable and PCA decompositions."
   ]
  },
  {
   "cell_type": "markdown",
   "metadata": {},
   "source": [
    "### 4.1 LASSO Regression "
   ]
  },
  {
   "cell_type": "code",
   "execution_count": 106,
   "metadata": {},
   "outputs": [],
   "source": [
    "from sklearn.linear_model import Ridge\n",
    "from sklearn.metrics import mean_squared_error"
   ]
  },
  {
   "cell_type": "code",
   "execution_count": 107,
   "metadata": {},
   "outputs": [
    {
     "name": "stdout",
     "output_type": "stream",
     "text": [
      "[0.7925970778911984, 0.7925970628424206, 0.7925970027471708, 0.7925951013278303, 0.792589266454597, 0.7925797363061542, 0.7925666603064395, 0.7925501798570374, 0.7924211611163302, 0.7919712043667332, 0.7913285774354536]\n",
      "[0.25316234157631196, 0.2531623599453098, 0.2531624332994072, 0.2531647542299306, 0.2531718764544177, 0.25318350924469285, 0.2531994702093339, 0.2532195867492479, 0.2533770709648633, 0.2539263019167604, 0.2547107119772773]\n"
     ]
    }
   ],
   "source": [
    "alphas = [0.005, 0.01,0.02,0.1, 0.2, 0.3, 0.4, 0.5,1, 2,3]\n",
    "ridge_scores = []\n",
    "MSE=[]\n",
    "for alpha in alphas:\n",
    "  \n",
    "  # Create a lasso regression model\n",
    "    ridge = Ridge(alpha=alpha)\n",
    "  \n",
    "  # Fit the data\n",
    "    ridge.fit(X_train, y_train)\n",
    "  \n",
    "  # Obtain R-squared\n",
    "    score = ridge.score(X_train, y_train)\n",
    "    ridge_scores.append(score)\n",
    "  # Obtain MSE\n",
    "    y_hat = ridge.predict(X_train)\n",
    "    MSE.append(mean_squared_error(y_hat, y_train))\n",
    "print(ridge_scores)\n",
    "print(MSE)"
   ]
  },
  {
   "cell_type": "markdown",
   "metadata": {},
   "source": [
    "### 4.2 Drop one variable with highest correlation"
   ]
  },
  {
   "cell_type": "code",
   "execution_count": 108,
   "metadata": {},
   "outputs": [],
   "source": [
    "X_new = df_total.drop(columns=(['Happiness.Score','Health_scale']), axis = 1).values\n",
    "y_new = df_total['Happiness.Score'].values"
   ]
  },
  {
   "cell_type": "code",
   "execution_count": 109,
   "metadata": {},
   "outputs": [],
   "source": [
    "X_train_2, X_test_2, y_train_2, y_test_2 = train_test_split(X_new, y_new, test_size= 0.2, stratify = df_new2[\"Region\"])"
   ]
  },
  {
   "cell_type": "code",
   "execution_count": 110,
   "metadata": {},
   "outputs": [
    {
     "data": {
      "text/plain": [
       "(960, 17)"
      ]
     },
     "execution_count": 110,
     "metadata": {},
     "output_type": "execute_result"
    }
   ],
   "source": [
    "X_train_2.shape"
   ]
  },
  {
   "cell_type": "code",
   "execution_count": 111,
   "metadata": {},
   "outputs": [
    {
     "data": {
      "text/plain": [
       "(241, 17)"
      ]
     },
     "execution_count": 111,
     "metadata": {},
     "output_type": "execute_result"
    }
   ],
   "source": [
    "X_test_2.shape"
   ]
  },
  {
   "cell_type": "code",
   "execution_count": 112,
   "metadata": {},
   "outputs": [
    {
     "data": {
      "text/html": [
       "<table class=\"simpletable\">\n",
       "<caption>OLS Regression Results</caption>\n",
       "<tr>\n",
       "  <th>Dep. Variable:</th>            <td>y</td>        <th>  R-squared:         </th> <td>   0.800</td> \n",
       "</tr>\n",
       "<tr>\n",
       "  <th>Model:</th>                   <td>OLS</td>       <th>  Adj. R-squared:    </th> <td>   0.797</td> \n",
       "</tr>\n",
       "<tr>\n",
       "  <th>Method:</th>             <td>Least Squares</td>  <th>  F-statistic:       </th> <td>   235.9</td> \n",
       "</tr>\n",
       "<tr>\n",
       "  <th>Date:</th>             <td>Thu, 01 Dec 2022</td> <th>  Prob (F-statistic):</th> <td>5.02e-316</td>\n",
       "</tr>\n",
       "<tr>\n",
       "  <th>Time:</th>                 <td>02:16:03</td>     <th>  Log-Likelihood:    </th> <td> -700.55</td> \n",
       "</tr>\n",
       "<tr>\n",
       "  <th>No. Observations:</th>      <td>   960</td>      <th>  AIC:               </th> <td>   1435.</td> \n",
       "</tr>\n",
       "<tr>\n",
       "  <th>Df Residuals:</th>          <td>   943</td>      <th>  BIC:               </th> <td>   1518.</td> \n",
       "</tr>\n",
       "<tr>\n",
       "  <th>Df Model:</th>              <td>    16</td>      <th>                     </th>     <td> </td>    \n",
       "</tr>\n",
       "<tr>\n",
       "  <th>Covariance Type:</th>      <td>nonrobust</td>    <th>                     </th>     <td> </td>    \n",
       "</tr>\n",
       "</table>\n",
       "<table class=\"simpletable\">\n",
       "<tr>\n",
       "    <td></td>       <th>coef</th>     <th>std err</th>      <th>t</th>      <th>P>|t|</th>  <th>[0.025</th>    <th>0.975]</th>  \n",
       "</tr>\n",
       "<tr>\n",
       "  <th>const</th> <td>    2.8192</td> <td>    0.099</td> <td>   28.609</td> <td> 0.000</td> <td>    2.626</td> <td>    3.013</td>\n",
       "</tr>\n",
       "<tr>\n",
       "  <th>x1</th>    <td>    2.0172</td> <td>    0.138</td> <td>   14.566</td> <td> 0.000</td> <td>    1.745</td> <td>    2.289</td>\n",
       "</tr>\n",
       "<tr>\n",
       "  <th>x2</th>    <td>    1.0964</td> <td>    0.103</td> <td>   10.662</td> <td> 0.000</td> <td>    0.895</td> <td>    1.298</td>\n",
       "</tr>\n",
       "<tr>\n",
       "  <th>x3</th>    <td>    1.2228</td> <td>    0.108</td> <td>   11.375</td> <td> 0.000</td> <td>    1.012</td> <td>    1.434</td>\n",
       "</tr>\n",
       "<tr>\n",
       "  <th>x4</th>    <td>    0.3625</td> <td>    0.115</td> <td>    3.161</td> <td> 0.002</td> <td>    0.137</td> <td>    0.588</td>\n",
       "</tr>\n",
       "<tr>\n",
       "  <th>x5</th>    <td>    0.5548</td> <td>    0.150</td> <td>    3.708</td> <td> 0.000</td> <td>    0.261</td> <td>    0.848</td>\n",
       "</tr>\n",
       "<tr>\n",
       "  <th>x6</th>    <td>   -0.0241</td> <td>    0.008</td> <td>   -2.885</td> <td> 0.004</td> <td>   -0.041</td> <td>   -0.008</td>\n",
       "</tr>\n",
       "<tr>\n",
       "  <th>x7</th>    <td>    0.7669</td> <td>    0.158</td> <td>    4.856</td> <td> 0.000</td> <td>    0.457</td> <td>    1.077</td>\n",
       "</tr>\n",
       "<tr>\n",
       "  <th>x8</th>    <td>    0.2584</td> <td>    0.047</td> <td>    5.488</td> <td> 0.000</td> <td>    0.166</td> <td>    0.351</td>\n",
       "</tr>\n",
       "<tr>\n",
       "  <th>x9</th>    <td>    0.1959</td> <td>    0.111</td> <td>    1.764</td> <td> 0.078</td> <td>   -0.022</td> <td>    0.414</td>\n",
       "</tr>\n",
       "<tr>\n",
       "  <th>x10</th>   <td>    0.0689</td> <td>    0.081</td> <td>    0.846</td> <td> 0.398</td> <td>   -0.091</td> <td>    0.229</td>\n",
       "</tr>\n",
       "<tr>\n",
       "  <th>x11</th>   <td>    0.6200</td> <td>    0.050</td> <td>   12.495</td> <td> 0.000</td> <td>    0.523</td> <td>    0.717</td>\n",
       "</tr>\n",
       "<tr>\n",
       "  <th>x12</th>   <td>    0.0911</td> <td>    0.052</td> <td>    1.753</td> <td> 0.080</td> <td>   -0.011</td> <td>    0.193</td>\n",
       "</tr>\n",
       "<tr>\n",
       "  <th>x13</th>   <td>    0.8677</td> <td>    0.124</td> <td>    6.989</td> <td> 0.000</td> <td>    0.624</td> <td>    1.111</td>\n",
       "</tr>\n",
       "<tr>\n",
       "  <th>x14</th>   <td>   -0.1544</td> <td>    0.071</td> <td>   -2.163</td> <td> 0.031</td> <td>   -0.294</td> <td>   -0.014</td>\n",
       "</tr>\n",
       "<tr>\n",
       "  <th>x15</th>   <td>   -0.3664</td> <td>    0.078</td> <td>   -4.726</td> <td> 0.000</td> <td>   -0.518</td> <td>   -0.214</td>\n",
       "</tr>\n",
       "<tr>\n",
       "  <th>x16</th>   <td>   -0.2492</td> <td>    0.050</td> <td>   -5.021</td> <td> 0.000</td> <td>   -0.347</td> <td>   -0.152</td>\n",
       "</tr>\n",
       "<tr>\n",
       "  <th>x17</th>   <td>    0.7202</td> <td>    0.056</td> <td>   12.753</td> <td> 0.000</td> <td>    0.609</td> <td>    0.831</td>\n",
       "</tr>\n",
       "</table>\n",
       "<table class=\"simpletable\">\n",
       "<tr>\n",
       "  <th>Omnibus:</th>       <td>11.479</td> <th>  Durbin-Watson:     </th> <td>   2.025</td>\n",
       "</tr>\n",
       "<tr>\n",
       "  <th>Prob(Omnibus):</th> <td> 0.003</td> <th>  Jarque-Bera (JB):  </th> <td>  13.887</td>\n",
       "</tr>\n",
       "<tr>\n",
       "  <th>Skew:</th>          <td>-0.168</td> <th>  Prob(JB):          </th> <td>0.000965</td>\n",
       "</tr>\n",
       "<tr>\n",
       "  <th>Kurtosis:</th>      <td> 3.483</td> <th>  Cond. No.          </th> <td>6.02e+16</td>\n",
       "</tr>\n",
       "</table><br/><br/>Notes:<br/>[1] Standard Errors assume that the covariance matrix of the errors is correctly specified.<br/>[2] The smallest eigenvalue is 4.75e-30. This might indicate that there are<br/>strong multicollinearity problems or that the design matrix is singular."
      ],
      "text/plain": [
       "<class 'statsmodels.iolib.summary.Summary'>\n",
       "\"\"\"\n",
       "                            OLS Regression Results                            \n",
       "==============================================================================\n",
       "Dep. Variable:                      y   R-squared:                       0.800\n",
       "Model:                            OLS   Adj. R-squared:                  0.797\n",
       "Method:                 Least Squares   F-statistic:                     235.9\n",
       "Date:                Thu, 01 Dec 2022   Prob (F-statistic):          5.02e-316\n",
       "Time:                        02:16:03   Log-Likelihood:                -700.55\n",
       "No. Observations:                 960   AIC:                             1435.\n",
       "Df Residuals:                     943   BIC:                             1518.\n",
       "Df Model:                          16                                         \n",
       "Covariance Type:            nonrobust                                         \n",
       "==============================================================================\n",
       "                 coef    std err          t      P>|t|      [0.025      0.975]\n",
       "------------------------------------------------------------------------------\n",
       "const          2.8192      0.099     28.609      0.000       2.626       3.013\n",
       "x1             2.0172      0.138     14.566      0.000       1.745       2.289\n",
       "x2             1.0964      0.103     10.662      0.000       0.895       1.298\n",
       "x3             1.2228      0.108     11.375      0.000       1.012       1.434\n",
       "x4             0.3625      0.115      3.161      0.002       0.137       0.588\n",
       "x5             0.5548      0.150      3.708      0.000       0.261       0.848\n",
       "x6            -0.0241      0.008     -2.885      0.004      -0.041      -0.008\n",
       "x7             0.7669      0.158      4.856      0.000       0.457       1.077\n",
       "x8             0.2584      0.047      5.488      0.000       0.166       0.351\n",
       "x9             0.1959      0.111      1.764      0.078      -0.022       0.414\n",
       "x10            0.0689      0.081      0.846      0.398      -0.091       0.229\n",
       "x11            0.6200      0.050     12.495      0.000       0.523       0.717\n",
       "x12            0.0911      0.052      1.753      0.080      -0.011       0.193\n",
       "x13            0.8677      0.124      6.989      0.000       0.624       1.111\n",
       "x14           -0.1544      0.071     -2.163      0.031      -0.294      -0.014\n",
       "x15           -0.3664      0.078     -4.726      0.000      -0.518      -0.214\n",
       "x16           -0.2492      0.050     -5.021      0.000      -0.347      -0.152\n",
       "x17            0.7202      0.056     12.753      0.000       0.609       0.831\n",
       "==============================================================================\n",
       "Omnibus:                       11.479   Durbin-Watson:                   2.025\n",
       "Prob(Omnibus):                  0.003   Jarque-Bera (JB):               13.887\n",
       "Skew:                          -0.168   Prob(JB):                     0.000965\n",
       "Kurtosis:                       3.483   Cond. No.                     6.02e+16\n",
       "==============================================================================\n",
       "\n",
       "Notes:\n",
       "[1] Standard Errors assume that the covariance matrix of the errors is correctly specified.\n",
       "[2] The smallest eigenvalue is 4.75e-30. This might indicate that there are\n",
       "strong multicollinearity problems or that the design matrix is singular.\n",
       "\"\"\""
      ]
     },
     "execution_count": 112,
     "metadata": {},
     "output_type": "execute_result"
    }
   ],
   "source": [
    "X_train_3 = sm.add_constant(X_train_2)\n",
    "\n",
    "#fit linear regression model\n",
    "model_new = sm.OLS(y_train_2, X_train_3).fit()\n",
    "\n",
    "#view model summary\n",
    "model_new.summary()"
   ]
  },
  {
   "cell_type": "code",
   "execution_count": 113,
   "metadata": {},
   "outputs": [],
   "source": [
    "y_hat_train = model_new.predict(sm.add_constant(X_train_2))"
   ]
  },
  {
   "cell_type": "code",
   "execution_count": 114,
   "metadata": {},
   "outputs": [
    {
     "data": {
      "text/plain": [
       "2.2505975726750473"
      ]
     },
     "execution_count": 114,
     "metadata": {},
     "output_type": "execute_result"
    }
   ],
   "source": [
    "mse(y_hat_train, y_train)"
   ]
  },
  {
   "cell_type": "code",
   "execution_count": 115,
   "metadata": {},
   "outputs": [],
   "source": [
    "y_hat_test = model_new.predict(sm.add_constant(X_test_2))"
   ]
  },
  {
   "cell_type": "code",
   "execution_count": 116,
   "metadata": {},
   "outputs": [
    {
     "data": {
      "text/plain": [
       "2.2322682689677493"
      ]
     },
     "execution_count": 116,
     "metadata": {},
     "output_type": "execute_result"
    }
   ],
   "source": [
    "mse(y_hat_test, y_test)"
   ]
  },
  {
   "cell_type": "markdown",
   "metadata": {},
   "source": [
    "#### We saw significant improvement when the highly correlated variable is deleted. Confirmed with our EDA, the multicollinearity did influenced our regression. "
   ]
  },
  {
   "cell_type": "markdown",
   "metadata": {},
   "source": [
    "### 4.3 PCA Decomposition"
   ]
  },
  {
   "cell_type": "code",
   "execution_count": 117,
   "metadata": {},
   "outputs": [],
   "source": [
    "from sklearn.decomposition import PCA\n",
    "from sklearn.linear_model import LinearRegression"
   ]
  },
  {
   "cell_type": "code",
   "execution_count": 118,
   "metadata": {},
   "outputs": [
    {
     "data": {
      "image/png": "[encoded data removed]",
      "text/plain": [
       "<Figure size 432x288 with 1 Axes>"
      ]
     },
     "metadata": {
      "needs_background": "light"
     },
     "output_type": "display_data"
    }
   ],
   "source": [
    "pca = PCA()\n",
    "pca.fit(X_train)\n",
    "features = range(pca.n_components_)\n",
    "plt.bar(features, pca.explained_variance_)\n",
    "plt.xlabel('PCA feature')\n",
    "plt.ylabel('variance')\n",
    "plt.xticks(features)\n",
    "plt.show()"
   ]
  },
  {
   "cell_type": "code",
   "execution_count": 119,
   "metadata": {},
   "outputs": [],
   "source": [
    "pca = PCA(n_components=2)\n",
    "pca_train = pca.fit_transform(X_train)\n",
    "pca_test = pca.transform(X_test)"
   ]
  },
  {
   "cell_type": "code",
   "execution_count": 120,
   "metadata": {},
   "outputs": [
    {
     "data": {
      "text/plain": [
       "array([ 0.03209097, -1.55318171])"
      ]
     },
     "execution_count": 120,
     "metadata": {},
     "output_type": "execute_result"
    }
   ],
   "source": [
    "reg = LinearRegression()\n",
    "reg.fit(pca_train, y_train)\n",
    "reg.coef_"
   ]
  },
  {
   "cell_type": "code",
   "execution_count": 121,
   "metadata": {},
   "outputs": [
    {
     "data": {
      "text/html": [
       "<table class=\"simpletable\">\n",
       "<caption>OLS Regression Results</caption>\n",
       "<tr>\n",
       "  <th>Dep. Variable:</th>            <td>y</td>        <th>  R-squared:         </th> <td>   0.557</td> \n",
       "</tr>\n",
       "<tr>\n",
       "  <th>Model:</th>                   <td>OLS</td>       <th>  Adj. R-squared:    </th> <td>   0.556</td> \n",
       "</tr>\n",
       "<tr>\n",
       "  <th>Method:</th>             <td>Least Squares</td>  <th>  F-statistic:       </th> <td>   601.0</td> \n",
       "</tr>\n",
       "<tr>\n",
       "  <th>Date:</th>             <td>Thu, 01 Dec 2022</td> <th>  Prob (F-statistic):</th> <td>8.26e-170</td>\n",
       "</tr>\n",
       "<tr>\n",
       "  <th>Time:</th>                 <td>02:16:03</td>     <th>  Log-Likelihood:    </th> <td> -1067.3</td> \n",
       "</tr>\n",
       "<tr>\n",
       "  <th>No. Observations:</th>      <td>   960</td>      <th>  AIC:               </th> <td>   2141.</td> \n",
       "</tr>\n",
       "<tr>\n",
       "  <th>Df Residuals:</th>          <td>   957</td>      <th>  BIC:               </th> <td>   2155.</td> \n",
       "</tr>\n",
       "<tr>\n",
       "  <th>Df Model:</th>              <td>     2</td>      <th>                     </th>     <td> </td>    \n",
       "</tr>\n",
       "<tr>\n",
       "  <th>Covariance Type:</th>      <td>nonrobust</td>    <th>                     </th>     <td> </td>    \n",
       "</tr>\n",
       "</table>\n",
       "<table class=\"simpletable\">\n",
       "<tr>\n",
       "    <td></td>       <th>coef</th>     <th>std err</th>      <th>t</th>      <th>P>|t|</th>  <th>[0.025</th>    <th>0.975]</th>  \n",
       "</tr>\n",
       "<tr>\n",
       "  <th>const</th> <td>    5.4257</td> <td>    0.024</td> <td>  228.190</td> <td> 0.000</td> <td>    5.379</td> <td>    5.472</td>\n",
       "</tr>\n",
       "<tr>\n",
       "  <th>x1</th>    <td>    0.0321</td> <td>    0.011</td> <td>    3.029</td> <td> 0.003</td> <td>    0.011</td> <td>    0.053</td>\n",
       "</tr>\n",
       "<tr>\n",
       "  <th>x2</th>    <td>   -1.5532</td> <td>    0.045</td> <td>  -34.539</td> <td> 0.000</td> <td>   -1.641</td> <td>   -1.465</td>\n",
       "</tr>\n",
       "</table>\n",
       "<table class=\"simpletable\">\n",
       "<tr>\n",
       "  <th>Omnibus:</th>       <td>17.652</td> <th>  Durbin-Watson:     </th> <td>   2.019</td>\n",
       "</tr>\n",
       "<tr>\n",
       "  <th>Prob(Omnibus):</th> <td> 0.000</td> <th>  Jarque-Bera (JB):  </th> <td>  18.343</td>\n",
       "</tr>\n",
       "<tr>\n",
       "  <th>Skew:</th>          <td>-0.338</td> <th>  Prob(JB):          </th> <td>0.000104</td>\n",
       "</tr>\n",
       "<tr>\n",
       "  <th>Kurtosis:</th>      <td> 2.980</td> <th>  Cond. No.          </th> <td>    4.24</td>\n",
       "</tr>\n",
       "</table><br/><br/>Notes:<br/>[1] Standard Errors assume that the covariance matrix of the errors is correctly specified."
      ],
      "text/plain": [
       "<class 'statsmodels.iolib.summary.Summary'>\n",
       "\"\"\"\n",
       "                            OLS Regression Results                            \n",
       "==============================================================================\n",
       "Dep. Variable:                      y   R-squared:                       0.557\n",
       "Model:                            OLS   Adj. R-squared:                  0.556\n",
       "Method:                 Least Squares   F-statistic:                     601.0\n",
       "Date:                Thu, 01 Dec 2022   Prob (F-statistic):          8.26e-170\n",
       "Time:                        02:16:03   Log-Likelihood:                -1067.3\n",
       "No. Observations:                 960   AIC:                             2141.\n",
       "Df Residuals:                     957   BIC:                             2155.\n",
       "Df Model:                           2                                         \n",
       "Covariance Type:            nonrobust                                         \n",
       "==============================================================================\n",
       "                 coef    std err          t      P>|t|      [0.025      0.975]\n",
       "------------------------------------------------------------------------------\n",
       "const          5.4257      0.024    228.190      0.000       5.379       5.472\n",
       "x1             0.0321      0.011      3.029      0.003       0.011       0.053\n",
       "x2            -1.5532      0.045    -34.539      0.000      -1.641      -1.465\n",
       "==============================================================================\n",
       "Omnibus:                       17.652   Durbin-Watson:                   2.019\n",
       "Prob(Omnibus):                  0.000   Jarque-Bera (JB):               18.343\n",
       "Skew:                          -0.338   Prob(JB):                     0.000104\n",
       "Kurtosis:                       2.980   Cond. No.                         4.24\n",
       "==============================================================================\n",
       "\n",
       "Notes:\n",
       "[1] Standard Errors assume that the covariance matrix of the errors is correctly specified.\n",
       "\"\"\""
      ]
     },
     "execution_count": 121,
     "metadata": {},
     "output_type": "execute_result"
    }
   ],
   "source": [
    "pca_train_1 = sm.add_constant(pca_train)\n",
    "\n",
    "#fit linear regression model\n",
    "model = sm.OLS(y_train, pca_train_1).fit()\n",
    "\n",
    "#view model summary\n",
    "model.summary()"
   ]
  },
  {
   "cell_type": "markdown",
   "metadata": {},
   "source": [
    "#### Because there's no clear sign of overfitting, PCA doesn't improve the model performance. The best model is the drop one variable model, which droped \" Health_scale\" on the basis of the naive model."
   ]
  },
  {
   "cell_type": "markdown",
   "metadata": {},
   "source": [
    "## 5. Residual Analysis"
   ]
  },
  {
   "cell_type": "code",
   "execution_count": 122,
   "metadata": {},
   "outputs": [
    {
     "data": {
      "text/plain": [
       "<AxesSubplot:xlabel='Economy_scale', ylabel='Happiness.Score'>"
      ]
     },
     "execution_count": 122,
     "metadata": {},
     "output_type": "execute_result"
    },
    {
     "data": {
      "image/png": "[encoded data removed]",
      "text/plain": [
       "<Figure size 432x288 with 1 Axes>"
      ]
     },
     "metadata": {
      "needs_background": "light"
     },
     "output_type": "display_data"
    }
   ],
   "source": [
    "sns.residplot(x='Economy_scale', y='Happiness.Score', data=df_total)\n"
   ]
  },
  {
   "cell_type": "code",
   "execution_count": 123,
   "metadata": {},
   "outputs": [
    {
     "data": {
      "text/plain": [
       "<AxesSubplot:xlabel='Family_scale', ylabel='Happiness.Score'>"
      ]
     },
     "execution_count": 123,
     "metadata": {},
     "output_type": "execute_result"
    },
    {
     "data": {
      "image/png": "[encoded data removed]",
      "text/plain": [
       "<Figure size 432x288 with 1 Axes>"
      ]
     },
     "metadata": {
      "needs_background": "light"
     },
     "output_type": "display_data"
    }
   ],
   "source": [
    "sns.residplot(x='Family_scale', y='Happiness.Score', data=df_total)\n"
   ]
  },
  {
   "cell_type": "code",
   "execution_count": 124,
   "metadata": {},
   "outputs": [
    {
     "data": {
      "text/plain": [
       "<AxesSubplot:xlabel='Freedom_scale', ylabel='Happiness.Score'>"
      ]
     },
     "execution_count": 124,
     "metadata": {},
     "output_type": "execute_result"
    },
    {
     "data": {
      "image/png": "[encoded data removed]",
      "text/plain": [
       "<Figure size 432x288 with 1 Axes>"
      ]
     },
     "metadata": {
      "needs_background": "light"
     },
     "output_type": "display_data"
    }
   ],
   "source": [
    "sns.residplot(x='Freedom_scale', y='Happiness.Score', data=df_total)"
   ]
  },
  {
   "cell_type": "code",
   "execution_count": 125,
   "metadata": {},
   "outputs": [
    {
     "data": {
      "text/plain": [
       "<AxesSubplot:xlabel='Trust_scale', ylabel='Happiness.Score'>"
      ]
     },
     "execution_count": 125,
     "metadata": {},
     "output_type": "execute_result"
    },
    {
     "data": {
      "image/png": "[encoded data removed]",
      "text/plain": [
       "<Figure size 432x288 with 1 Axes>"
      ]
     },
     "metadata": {
      "needs_background": "light"
     },
     "output_type": "display_data"
    }
   ],
   "source": [
    "sns.residplot(x='Trust_scale', y='Happiness.Score', data=df_total)"
   ]
  },
  {
   "cell_type": "code",
   "execution_count": 126,
   "metadata": {},
   "outputs": [
    {
     "data": {
      "text/plain": [
       "<AxesSubplot:xlabel='Generosity_scale', ylabel='Happiness.Score'>"
      ]
     },
     "execution_count": 126,
     "metadata": {},
     "output_type": "execute_result"
    },
    {
     "data": {
      "image/png": "[encoded data removed]",
      "text/plain": [
       "<Figure size 432x288 with 1 Axes>"
      ]
     },
     "metadata": {
      "needs_background": "light"
     },
     "output_type": "display_data"
    }
   ],
   "source": [
    "sns.residplot(x='Generosity_scale', y='Happiness.Score', data=df_total)"
   ]
  },
  {
   "cell_type": "code",
   "execution_count": 127,
   "metadata": {},
   "outputs": [],
   "source": [
    "residual = model_new.predict(sm.add_constant(X_new))- y_new"
   ]
  },
  {
   "cell_type": "code",
   "execution_count": 128,
   "metadata": {},
   "outputs": [
    {
     "data": {
      "text/plain": [
       "<matplotlib.collections.PathCollection at 0x7f92b1f0a2b0>"
      ]
     },
     "execution_count": 128,
     "metadata": {},
     "output_type": "execute_result"
    },
    {
     "data": {
      "image/png": "[encoded data removed]",
      "text/plain": [
       "<Figure size 432x288 with 1 Axes>"
      ]
     },
     "metadata": {
      "needs_background": "light"
     },
     "output_type": "display_data"
    }
   ],
   "source": [
    "plt.scatter(y_new,residual)"
   ]
  }
 ],
 "metadata": {
  "kernelspec": {
   "display_name": "Python 3",
   "language": "python",
   "name": "python3"
  },
  "language_info": {
   "codemirror_mode": {
    "name": "ipython",
    "version": 3
   },
   "file_extension": ".py",
   "mimetype": "text/x-python",
   "name": "python",
   "nbconvert_exporter": "python",
   "pygments_lexer": "ipython3",
   "version": "3.8.5"
  }
 },
 "nbformat": 4,
 "nbformat_minor": 4
}
